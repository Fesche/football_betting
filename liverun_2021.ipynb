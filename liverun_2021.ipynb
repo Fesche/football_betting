{
 "cells": [
  {
   "cell_type": "code",
   "execution_count": 53,
   "metadata": {},
   "outputs": [],
   "source": [
    "import pandas as pd\n",
    "import numpy as np\n",
    "from matplotlib import pyplot as plt\n",
    "from tqdm import tqdm\n",
    "import os\n",
    "#from keras.models import load_model\n",
    "import urllib.request\n",
    "from urllib3 import PoolManager\n",
    "import re"
   ]
  },
  {
   "cell_type": "code",
   "execution_count": 52,
   "metadata": {},
   "outputs": [],
   "source": [
    "#Gjenstår: Hent odds"
   ]
  },
  {
   "cell_type": "markdown",
   "metadata": {},
   "source": [
    "## Find odds for 7 days at a time."
   ]
  },
  {
   "cell_type": "markdown",
   "metadata": {},
   "source": [
    "### Source 1: soccerbase"
   ]
  },
  {
   "cell_type": "code",
   "execution_count": 3,
   "metadata": {},
   "outputs": [],
   "source": [
    "import gzip\n",
    "import urllib.request\n",
    "games = []"
   ]
  },
  {
   "cell_type": "code",
   "execution_count": 3,
   "metadata": {
    "collapsed": true
   },
   "outputs": [],
   "source": [
    "\n",
    "# url_string2 = None\n",
    "# with urllib.request.urlopen('http://www.soccerbase.com/matches/home.sd?type=2') as response:\n",
    "#     gzipFile = gzip.GzipFile(fileobj=response)\n",
    "#     url_string2 = gzipFile.read().decode(\"UTF-8\")\n",
    "#     url_string2 = re.search('(?<=soccer.gamelist.Timekeeper.addGames\\({).*?(?=soccer.gamelist)', url_string2)[0]\n"
   ]
  },
  {
   "cell_type": "code",
   "execution_count": 4,
   "metadata": {
    "collapsed": true
   },
   "outputs": [],
   "source": [
    "# matches = re.finditer('(?<=\\=)(.*?)\\_V\\_(.*?)\\=(.*?)\\\"', url_string2)\n",
    "# for match in matches:\n",
    "#     games.append([match[3],re.sub(\"_\", \" \", match[1]).lower(),re.sub(\"_\", \" \", match[2]).lower()])"
   ]
  },
  {
   "cell_type": "markdown",
   "metadata": {},
   "source": [
    "### Source 2: supersport"
   ]
  },
  {
   "cell_type": "code",
   "execution_count": 5,
   "metadata": {
    "collapsed": true
   },
   "outputs": [],
   "source": [
    "# response = urllib.request.urlopen('https://www.supersport.com/football/fixtures')\n",
    "# url_string = response.read()\n",
    "# url_string = url_string.decode(\"UTF-8\")\n",
    "# url_string = re.search('(?<=FIXTURES)(.|\\s)*', url_string)[0]"
   ]
  },
  {
   "cell_type": "code",
   "execution_count": 6,
   "metadata": {
    "collapsed": true
   },
   "outputs": [],
   "source": [
    "# dates = re.finditer(\"(?<=Header\\\">)(.*?)(?=class=\\\"table)\", url_string)\n",
    "\n",
    "# for day in dates:\n",
    "    \n",
    "#     date = re.search('.*?(?=</td>)',day[0])[0]\n",
    "#     matches = re.finditer(\"(?<=>)(..:..)(.*?)(?=</td><td class)\",day[0])\n",
    "    \n",
    "#     for match in matches:\n",
    "#         time_of_match = match[0][:5]\n",
    "#         teams_re = re.finditer(\"(?<=st\\'>)(.*?)(?=</td>)\", match[0])\n",
    "#         game = [date]\n",
    "#         for team in teams_re:\n",
    "            \n",
    "#             game.append(team[0].lower())\n",
    "#         games.append(game)"
   ]
  },
  {
   "cell_type": "markdown",
   "metadata": {},
   "source": [
    "### Source 3: thefishy"
   ]
  },
  {
   "cell_type": "code",
   "execution_count": 4,
   "metadata": {},
   "outputs": [],
   "source": [
    "url_string3 = None\n",
    "with urllib.request.urlopen('https://thefishy.co.uk/nextweeksfixtures.php') as response:\n",
    "    url_string3 = response.read().decode(\"UTF-8\") + \" 12/12</th>\""
   ]
  },
  {
   "cell_type": "code",
   "execution_count": 5,
   "metadata": {},
   "outputs": [],
   "source": [
    "dates = re.finditer(\"(\\ ../..<(.|\\s)*?)(?=\\ \\w\\w/\\w\\w</th>)\", url_string3)\n",
    "\n",
    "for date in dates:\n",
    "    day = date[0][1:6] + \"/18\"\n",
    "    matches = re.finditer(\"(?<=\\'>)(.*?)\\ v\\ (.*?)(?=<)\", date[0])\n",
    "    for match in matches:\n",
    "        away_team = match[2]\n",
    "        home_team = re.search('(?<=team2)(.*?>)(.*?)(?=$)',match[1])[2]\n",
    "        \n",
    "#         print(home_team, away_team)\n",
    "        \n",
    "        games.append([day, home_team.lower(), away_team.lower()])\n"
   ]
  },
  {
   "cell_type": "code",
   "execution_count": 6,
   "metadata": {},
   "outputs": [
    {
     "name": "stdout",
     "output_type": "stream",
     "text": [
      "Downloading  http://www.football-data.co.uk/mmz4281/2021/data.zip\n",
      "Downloading  http://www.football-data.co.uk/mmz4281/1920/data.zip\n",
      "Downloading  http://www.football-data.co.uk/mmz4281/1819/data.zip\n",
      "Downloading  http://www.football-data.co.uk/mmz4281/1718/data.zip\n",
      "Downloading  http://www.football-data.co.uk/mmz4281/1617/data.zip\n",
      "Downloading  http://www.football-data.co.uk/mmz4281/1516/data.zip\n",
      "Downloading  http://www.football-data.co.uk/mmz4281/1415/data.zip\n",
      "Downloading  http://www.football-data.co.uk/mmz4281/1314/data.zip\n",
      "Downloading  http://www.football-data.co.uk/mmz4281/1213/data.zip\n",
      "Downloading  http://www.football-data.co.uk/mmz4281/1112/data.zip\n",
      "Downloading  http://www.football-data.co.uk/mmz4281/1011/data.zip\n",
      "Downloading  http://www.football-data.co.uk/mmz4281/0910/data.zip\n",
      "Downloading  http://www.football-data.co.uk/mmz4281/0809/data.zip\n",
      "Downloading  http://www.football-data.co.uk/mmz4281/0708/data.zip\n",
      "Downloading  http://www.football-data.co.uk/mmz4281/0607/data.zip\n",
      "Downloading  http://www.football-data.co.uk/mmz4281/0506/data.zip\n",
      "Downloading  http://www.football-data.co.uk/mmz4281/0405/data.zip\n",
      "Downloading  http://www.football-data.co.uk/mmz4281/0304/data.zip\n",
      "Downloading  http://www.football-data.co.uk/mmz4281/0203/data.zip\n",
      "Downloading  http://www.football-data.co.uk/mmz4281/0102/data.zip\n",
      "Downloading  http://www.football-data.co.uk/mmz4281/0001/data.zip\n",
      "Downloading  http://www.football-data.co.uk/mmz4281/9900/data.zip\n",
      "Downloading  http://www.football-data.co.uk/mmz4281/9899/data.zip\n",
      "Downloading  http://www.football-data.co.uk/mmz4281/9798/data.zip\n",
      "Downloading  http://www.football-data.co.uk/mmz4281/9697/data.zip\n",
      "Downloading  http://www.football-data.co.uk/mmz4281/9596/data.zip\n",
      "Downloading  http://www.football-data.co.uk/mmz4281/9495/data.zip\n",
      "Downloading  http://www.football-data.co.uk/mmz4281/9394/data.zip\n",
      "unzipping  ../../Football_Data/Zipstash\\data_0.zip\n",
      "unzipping  ../../Football_Data/Zipstash\\data_1.zip\n",
      "unzipping  ../../Football_Data/Zipstash\\data_10.zip\n",
      "unzipping  ../../Football_Data/Zipstash\\data_11.zip\n",
      "unzipping  ../../Football_Data/Zipstash\\data_12.zip\n",
      "unzipping  ../../Football_Data/Zipstash\\data_13.zip\n",
      "unzipping  ../../Football_Data/Zipstash\\data_14.zip\n",
      "unzipping  ../../Football_Data/Zipstash\\data_15.zip\n",
      "unzipping  ../../Football_Data/Zipstash\\data_16.zip\n",
      "unzipping  ../../Football_Data/Zipstash\\data_17.zip\n",
      "unzipping  ../../Football_Data/Zipstash\\data_18.zip\n",
      "unzipping  ../../Football_Data/Zipstash\\data_19.zip\n",
      "unzipping  ../../Football_Data/Zipstash\\data_2.zip\n",
      "unzipping  ../../Football_Data/Zipstash\\data_20.zip\n",
      "unzipping  ../../Football_Data/Zipstash\\data_21.zip\n",
      "unzipping  ../../Football_Data/Zipstash\\data_22.zip\n",
      "unzipping  ../../Football_Data/Zipstash\\data_23.zip\n",
      "unzipping  ../../Football_Data/Zipstash\\data_24.zip\n",
      "unzipping  ../../Football_Data/Zipstash\\data_25.zip\n",
      "unzipping  ../../Football_Data/Zipstash\\data_26.zip\n",
      "unzipping  ../../Football_Data/Zipstash\\data_27.zip\n",
      "unzipping  ../../Football_Data/Zipstash\\data_3.zip\n",
      "unzipping  ../../Football_Data/Zipstash\\data_4.zip\n",
      "unzipping  ../../Football_Data/Zipstash\\data_5.zip\n",
      "unzipping  ../../Football_Data/Zipstash\\data_6.zip\n",
      "unzipping  ../../Football_Data/Zipstash\\data_7.zip\n",
      "unzipping  ../../Football_Data/Zipstash\\data_8.zip\n",
      "unzipping  ../../Football_Data/Zipstash\\data_9.zip\n"
     ]
    }
   ],
   "source": [
    "%run update_stash.py"
   ]
  },
  {
   "cell_type": "code",
   "execution_count": 27,
   "metadata": {},
   "outputs": [],
   "source": [
    "all_seasons = []\n",
    "for filename in os.listdir('C:/Users/bfesc/Documents/Football_Data/Stash/'):\n",
    "    #if filename[0] == 'B':\n",
    "    with open(\"C:/Users/bfesc/Documents/Football_Data/Stash/\" + filename) as file:\n",
    "        season = file.read().rstrip().split('\\n')\n",
    "        for i in range(len(season)):\n",
    "            season[i] = season[i].rstrip(',').split(',')\n",
    "            for j in range(len(season[i])):\n",
    "                season[i][j] = season[i][j].lower()\n",
    "        all_seasons.append(season)"
   ]
  },
  {
   "cell_type": "code",
   "execution_count": 40,
   "metadata": {},
   "outputs": [],
   "source": [
    "columns = ['Div', 'Date', 'HomeTeam', 'AwayTeam', 'FTHG', 'FTAG', 'FTR', 'WHH', 'WHD', 'WHA']\n",
    "columns = [col.lower() for col in columns]\n",
    "all_data = pd.DataFrame(columns=columns)\n",
    "for season in all_seasons:\n",
    "    if not np.in1d(columns, season[0]).all():\n",
    "        continue\n",
    "    if len(season[0]) != max([len(s) for s in season]):\n",
    "        for i in range(len(season)):\n",
    "            season[i] = season[i][:len(season[0])]\n",
    "    df = pd.DataFrame(season[1:])\n",
    "    df.columns = season[0]\n",
    "    all_data = all_data.append(df[columns])\n",
    "    \n",
    "all_data['date'] = pd.to_datetime(all_data['date'], dayfirst=True)\n",
    "all_data.index = all_data['date']\n",
    "all_data = all_data.drop(columns=['date','div'])\n",
    "for column in all_data.columns:\n",
    "    all_data = all_data[pd.notnull(all_data[column])]\n",
    "all_data = all_data[pd.notnull(all_data.index)]\n",
    "all_data = all_data.iloc[np.where(all_data['whh'] != \"\")]\n",
    "all_data = all_data.iloc[np.where(all_data['whd'] != \"\")]\n",
    "all_data = all_data.iloc[np.where(all_data['wha'] != \"\")]\n",
    "all_data = all_data.iloc[np.where(all_data['fthg'] != \"\")]\n",
    "all_data = all_data.sort_index(ascending=False)\n",
    "all_data['ftr'].iloc[np.where(all_data['ftr'] == 'a')] = 0\n",
    "all_data['ftr'].iloc[np.where(all_data['ftr'] == 'd')] = 1\n",
    "all_data['ftr'].iloc[np.where(all_data['ftr'] == 'h')] = 2\n",
    "all_data['fthg'] = all_data['fthg'].astype(int)\n",
    "all_data['ftag'] = all_data['ftag'].astype(int)\n",
    "all_data['whh'] = all_data['whh'].astype(np.float32)\n",
    "all_data['whd'] = all_data['whd'].astype(np.float32)\n",
    "all_data['wha'] = all_data['wha'].astype(np.float32)"
   ]
  },
  {
   "cell_type": "code",
   "execution_count": 12,
   "metadata": {},
   "outputs": [],
   "source": [
    "from difflib import SequenceMatcher\n",
    "\n",
    "def unknown_team(home_team, away_team, team_dict, unknown = \"away\"):\n",
    "\n",
    "    if unknown == \"away\":\n",
    "        team_scores = []\n",
    "        teams = team_dict[home_team]['awayteam'] #Away or HomeTeam doesnt really matter \n",
    "        \n",
    "        for team in teams:\n",
    "            team_scores.append(SequenceMatcher(None,team,away_team).ratio())\n",
    "        \n",
    "        team_scores = np.argsort(team_scores)\n",
    "        \n",
    "        away_team = teams[team_scores[-1]]\n",
    "    \n",
    "    else:\n",
    "        teams = team_dict[away_team]['hometeam']\n",
    "        team_scores = []\n",
    "            \n",
    "        for team in teams:\n",
    "            team_scores.append(SequenceMatcher(None,team,home_team).ratio())\n",
    "        \n",
    "        team_scores = np.argsort(team_scores)\n",
    "        \n",
    "        home_team = teams[team_scores[-1]]\n",
    "        \n",
    "        #if team_scores[-1] < 0.4\n",
    "        \n",
    "    return home_team, away_team\n"
   ]
  },
  {
   "cell_type": "code",
   "execution_count": 23,
   "metadata": {},
   "outputs": [],
   "source": [
    "\"\"\"def make_team_dicts(data):\n",
    "    all_teams = np.unique(np.append(data['HomeTeam'].str.lower(), data['AwayTeam'].str.lower()))\n",
    "    team_dict = {}\n",
    "    \n",
    "    for team in all_teams:\n",
    "        team_dict[team] = data.iloc[np.where(np.logical_or(data['HomeTeam'] == team, \n",
    "                                                      data['AwayTeam'] == team))].sort_index(ascending=False)\n",
    "        \n",
    "    return team_dict\"\"\""
   ]
  },
  {
   "cell_type": "code",
   "execution_count": 42,
   "metadata": {},
   "outputs": [],
   "source": [
    "def make_team_dicts(data):\n",
    "    \n",
    "    ht = data[\"hometeam\"].str.lower()\n",
    "    at = data[\"awayteam\"].str.lower()\n",
    "    \n",
    "    all_teams = np.unique(np.append(ht, at))\n",
    "    team_dict = {}\n",
    "    \n",
    "    for team in all_teams:\n",
    "        team_dict[team] = data.iloc[np.where(np.logical_or(ht == team, \n",
    "                                                      at == team))].sort_index(ascending=False)\n",
    "        \n",
    "    return team_dict"
   ]
  },
  {
   "cell_type": "code",
   "execution_count": 43,
   "metadata": {},
   "outputs": [],
   "source": [
    "team_dict = make_team_dicts(all_data)"
   ]
  },
  {
   "cell_type": "code",
   "execution_count": 44,
   "metadata": {},
   "outputs": [
    {
     "data": {
      "text/plain": [
       "('dortmund', 'bayern munich')"
      ]
     },
     "execution_count": 44,
     "metadata": {},
     "output_type": "execute_result"
    }
   ],
   "source": [
    "# Sanity check\n",
    "unknown_team(\"dortmund\", \"bayern münchen\", team_dict)"
   ]
  },
  {
   "cell_type": "code",
   "execution_count": 51,
   "metadata": {},
   "outputs": [
    {
     "data": {
      "text/plain": [
       "['b/football/OB_EV20185837/lyon-vs-angers\">Lyon v Angers</a></div><div id=\"OB_MA937690511\" clas',\n",
       " 'b/football/OB_EV20185837/lyon-vs-angers\">Lyon v Angers</a></div><div id=\"OB_MA937690509\" clas']"
      ]
     },
     "execution_count": 51,
     "metadata": {},
     "output_type": "execute_result"
    }
   ],
   "source": [
    "teststr = \"\"\"\":{\"topic\":\"PDS/OB_EV20106699/OB_MA934625950\",\"hash\":[true,\"A\",\"\",false,null,null,null,false,true,false,\"MR\",null,null],\"parent\":\"OB_EV20106699\"},\"OB_MA939935498\":{\"topic\":\"PDS/OB_EV20240488/OB_MA939935498\",\"hash\":[true,\"A\",\"\",false,null,null,null,false,true,false,\"MR\",null,null],\"parent\":\"OB_EV20240488\"},\"OB_MA939458334\":{\"topic\":\"PDS/OB_EV20228720/OB_MA939458334\",\"hash\":[true,\"A\",\"\",false,null,null,null,false,true,false,\"MR\",null,null],\"parent\":\"OB_EV20228720\"},\"OB_MA934626127\":{\"topic\":\"PDS/OB_EV20106699/OB_MA934626127\",\"hash\":[true,\"A\",\"\",false,null,null,null,false,true,false,\"--\",null,null],\"parent\":\"OB_EV20106699\"},\"OB_MA934625949\":{\"topic\":\"PDS/OB_EV20106699/OB_MA934625949\",\"hash\":[true,\"A\",\"\",false,null,null,null,false,true,false,\"--\",null,null],\"parent\":\"OB_EV20106699\"},\"OB_MA934625960\":{\"topic\":\"PDS/OB_EV20106699/OB_MA934625960\",\"hash\":[true,\"A\",\"\",false,null,null,null,false,true,false,\"MR\",null,null],\"parent\":\"OB_EV20106699\"},\"OB_MA937690509\":{\"topic\":\"PDS/OB_EV20185837/OB_MA937690509\",\"hash\":[true,\"A\",\"\",false,null,null,null,false,true,false,\"--\",null,null],\"parent\":\"OB_EV20185837\"},\"OB_MA939935608\":{\"topic\":\"PDS/OB_EV20240488/OB_MA939935608\",\"hash\":[true,\"A\",\"\",false,null,null,null,false,true,false,\"--\",null,null],\"parent\":\"OB_EV20240488\"},\"OB_MA934625864\":{\"topic\":\"PDS/OB_EV20106699/OB_MA934625864\",\"hash\":[true,\"A\",\"\",false,null,null,null,false,true,false,\"DC\",null,null],\"parent\":\"OB_EV20106699\"}},\"selections\":{\"OB_OU3121467567\":{\"topic\":\"PDS/OB_EV20185837/OB_MA937690511/OB_OU3121467567\",\"hash\":[true,\"A\",\"3\",\"10\",null,null,null,null,false,\"H\"],\"parent\":\"OB_MA937690511\"},\"OB_OU3110580908\":{\"topic\":\"PDS/OB_EV20106699/OB_MA934625950/OB_OU3110580908\",\"hash\":[true,\"A\",\"23\",\"20\",null,null,null,null,false,\"A\"],\"parent\":\"OB_MA934625950\"},\"OB_OU3129604949\":{\"topic\":\"PDS/OB_EV20240488/OB_MA939935498/OB_OU3129604949\",\"hash\":[true,\"A\",\"11\",\"20\",null,null,null,null,false,\"H\"],\"parent\":\"OB_MA939935498\"},\"OB_OU3127895498\":{\"topic\":\"PDS/OB_EV20228720/OB_MA939458334/OB_OU3127895498\",\"hash\":[true,\"A\",\"13\",\"20\",null,null,null,null,false,\"H\"],\"parent\":\"OB_MA939458334\"},\"OB_OU3110581538\":{\"topic\":\"PDS/OB_EV20106699/OB_MA934626127/OB_OU3110581538\",\"hash\":[true,\"A\",\"1\",\"1\",null,null,null,null,false,\"-\"],\"parent\":\"OB_MA934626127\"},\"OB_OU3110580910\":{\"topic\":\"PDS/OB_EV20106699/OB_MA934625949/OB_OU3110580910\",\"hash\":[true,\"A\",\"2\",\"5\",null,null,null,null,false,\"-\"],\"parent\":\"OB_MA934625949\"},\"OB_OU3110580919\":{\"topic\":\"PDS/OB_EV20106699/OB_MA934625960/OB_OU3110580919\",\"hash\":[true,\"A\",\"15\",\"4\",null,null,null,null,false,\"A\"],\"parent\":\"OB_MA934625960\"},\"OB_OU3121467580\":{\"topic\":\"PDS/OB_EV20185837/OB_MA937690509/OB_OU3121467580\",\"hash\":[true,\"A\",\"1\",\"5\",null,null,null,null,false,\"-\"],\"parent\":\"OB_MA937690509\"},\"OB_OU3129605353\":{\"topic\":\"PDS/OB_EV20240488/OB_MA939935608/OB_OU3129605353\",\"hash\":[true,\"A\",\"2\",\"5\",null,null,null,null,false,\"-\"],\"parent\":\"OB_MA939935608\"},\"OB_OU3110580641\":{\"topic\":\"PDS/OB_EV20106699/OB_MA934625864/OB_OU3110580641\",\"hash\":[true,\"A\",\"2\",\"7\",null,null,null,null,false,\"2\"],\"parent\":\"OB_MA934625864\"}}};</script><div class=\"topbets clickable-selections\" data-panel=\"panel-top-bets\" aria-label=\"Top Bets\"><section class=\"header-panel\"><div class=\"header-panel__content\"><div class=\"header-panel__content-inner\"><span class=\"topbets__header-icon icon-most-popular-bets2\"></span><h2 class=\"header-panel__title -text-left\">Top Bets</h2></div></div></section><div class=\"topbets__header\"><h2>Top Bets</h2><hr class=\"topbets__header--separator\"/></div><ul class=\"grid grid--wrap grid--aitems-center\"><li class=\"topbets__list-item\" id=\"OB_EV20185837\" data-entityid=\"OB_EV20185837\" data-displayed=\"true\" data-betinrun=\"false\"><div class=\"grid grid--aitems-center\"><div class=\"grid-col\"><div><i class=\"topbets__icon icon-football\"></i> <span class=\"topbets__icon-name\">Football |</span> <time data-type=\"event-starttime\" datetime=\"2021-04-11T19:00:00.000Z\" class=\"eventStartTime localisable topbets__list-item--time\"></time></div><h3 class=\"topbets__list-item--event\">Lyon - 90 Minutes</h3><a class=\"topbets__list-item--link\" href=\"/betting/en-gb/football/OB_EV20185837/lyon-vs-angers\">Lyon v Angers</a></div><div id=\"OB_MA937690511\" class=\"grid-col grid-col--shrink\" data-entityid=\"OB_MA937690511\" data-displayed=\"true\" data-status=\"A\" data-betinrun=\"false\"><button id=\"OB_OU3121467567\" class=\"btn betbutton oddsbutton\" aria-label=\"Lyon at 3/10\" data-name=\"Lyon\" data-displayed=\"true\" data-status=\"A\" data-player=\"Lyon\" data-entityid=\"OB_OU3121467567\" data-market=\"OB_MA937690511\" data-event=\"OB_EV20185837\" data-odds=\"3/10\" data-num=\"3\" data-denom=\"10\" data-goal-name=\"Goal\"><span class=\"betbutton__odds\">3/10</span> <span class=\"icon\"></span></button></div></div></li><li class=\"topbets__list-item\" id=\"OB_EV20106699\" data-entityid=\"OB_EV20106699\" data-displayed=\"true\" data-betinrun=\"false\"><div class=\"grid grid--aitems-center\"><div class=\"grid-col\"><div><i class=\"topbets__icon icon-football\"></i> <span class=\"topbets__icon-name\">Football |</span> <time data-type=\"event-starttime\" datetime=\"2021-04-11T19:00:00.000Z\" class=\"eventStartTime localisable topbets__list-item--time\"></time></div><h3 class=\"topbets__list-item--event\">Atletico Madrid - 90 Minutes</h3><a class=\"topbets__list-item--link\" href=\"/betting/en-gb/football/OB_EV20106699/real-betis-vs-atletico-madrid\">Real Betis v Atletico Madrid</a></div><div id=\"OB_MA934625950\" class=\"grid-col grid-col--shrink\" data-entityid=\"OB_MA934625950\" data-displayed=\"true\" data-status=\"A\" data-betinrun=\"false\"><button id=\"OB_OU3110580908\" class=\"btn betbutton oddsbutton\" aria-label=\"Atletico Madrid at 23/20\" data-name=\"Atletico Madrid\" data-displayed=\"true\" data-status=\"A\" data-player=\"Atletico Madrid\" data-entityid=\"OB_OU3110580908\" data-market=\"OB_MA934625950\" data-event=\"OB_EV20106699\" data-odds=\"23/20\" data-num=\"23\" data-denom=\"20\" data-goal-name=\"Goal\"><span class=\"betbutton__odds\">23/20</span> <span class=\"icon\"></span></button></div></div></li><li class=\"topbets__list-item\" id=\"OB_EV20240488\" data-entityid=\"OB_EV20240488\" data-displayed=\"true\" data-betinrun=\"false\"><div class=\"grid grid--aitems-center\"><div class=\"grid-col\"><div><i class=\"topbets__icon icon-football\"></i> <span class=\"topbets__icon-name\">Football |</span> <time data-type=\"event-starttime\" datetime=\"2021-04-11T19:00:00.000Z\" class=\"eventStartTime localisable topbets__list-item--time\"></time></div><h3 class=\"topbets__list-item--event\">Sporting Lisbon - 90 Minutes</h3><a class=\"topbets__list-item--link\" href=\"/betting/en-gb/football/OB_EV20240488/sporting-lisbon-vs-famalicao\">Sporting Lisbon v Famalicao</a></div><div id=\"OB_MA939935498\" class=\"grid-col grid-col--shrink\" data-entityid=\"OB_MA939935498\" data-displayed=\"true\" data-status=\"A\" data-betinrun=\"false\"><button id=\"OB_OU3129604949\" class=\"btn betbutton oddsbutton\" aria-label=\"Sporting Lisbon at 11/20\" data-name=\"Sporting Lisbon\" data-displayed=\"true\" data-status=\"A\" data-player=\"Sporting Lisbon\" data-entityid=\"OB_OU3129604949\" data-market=\"OB_MA939935498\" data-event=\"OB_EV20240488\" data-odds=\"11/20\" data-num=\"11\" data-denom=\"20\" data-goal-name=\"Goal\"><span class=\"betbutton__odds\">11/20</span> <span class=\"icon\"></span></button></div></div></li><li class=\"topbets__list-item\" id=\"OB_EV20228720\" data-entityid=\"OB_EV20228720\" data-displayed=\"true\" data-betinrun=\"false\"><div class=\"grid grid--aitems-center\"><div class=\"grid-col\"><div><i class=\"topbets__icon icon-football\"></i> <span class=\"topbets__icon-name\">Football |</span> <time data-type=\"event-starttime\" datetime=\"2021-04-11T19:00:00.000Z\" class=\"eventStartTime localisable topbets__list-item--time\"></time></div><h3 class=\"topbets__list-item--event\">Espanyol - 90 Minutes</h3><a class=\"topbets__list-item--link\" href=\"/betting/en-gb/football/OB_EV20228720/espanyol-vs-leganes\">Espanyol v Leganes</a></div><div id=\"OB_MA939458334\" class=\"grid-col grid-col--shrink\" data-entityid=\"OB_MA939458334\" data-displayed=\"true\" data-status=\"A\" data-betinrun=\"false\"><button id=\"OB_OU3127895498\" class=\"btn betbutton oddsbutton\" aria-label=\"Espanyol at 13/20\" data-name=\"Espanyol\" data-displayed=\"true\" data-status=\"A\" data-player=\"Espanyol\" data-entityid=\"OB_OU3127895498\" data-market=\"OB_MA939458334\" data-event=\"OB_EV20228720\" data-odds=\"13/20\" data-num=\"13\" data-denom=\"20\" data-goal-name=\"Goal\"><span class=\"betbutton__odds\">13/20</span> <span class=\"icon\"></span></button></div></div></li><li class=\"topbets__list-item\" id=\"OB_EV20106699\" data-entityid=\"OB_EV20106699\" data-displayed=\"true\" data-betinrun=\"false\"><div class=\"grid grid--aitems-center\"><div class=\"grid-col\"><div><i class=\"topbets__icon icon-football\"></i> <span class=\"topbets__icon-name\">Football |</span> <time data-type=\"event-starttime\" datetime=\"2021-04-11T19:00:00.000Z\" class=\"eventStartTime localisable topbets__list-item--time\"></time></div><h3 class=\"topbets__list-item--event\">Yes - Both Teams To Score</h3><a class=\"topbets__list-item--link\" href=\"/betting/en-gb/football/OB_EV20106699/real-betis-vs-atletico-madrid\">Real Betis v Atletico Madrid</a></div><div id=\"OB_MA934626127\" class=\"grid-col grid-col--shrink\" data-entityid=\"OB_MA934626127\" data-displayed=\"true\" data-status=\"A\" data-betinrun=\"false\"><button id=\"OB_OU3110581538\" class=\"btn betbutton oddsbutton\" aria-label=\"Yes at 1/1\" data-name=\"Yes\" data-displayed=\"true\" data-status=\"A\" data-player=\"Yes\" data-entityid=\"OB_OU3110581538\" data-market=\"OB_MA934626127\" data-event=\"OB_EV20106699\" data-odds=\"1/1\" data-num=\"1\" data-denom=\"1\" data-goal-name=\"Goal\"><span class=\"betbutton__odds\">1/1</span> <span class=\"icon\"></span></button></div></div></li><li class=\"topbets__list-item\" id=\"OB_EV20106699\" data-entityid=\"OB_EV20106699\" data-displayed=\"true\" data-betinrun=\"false\"><div class=\"grid grid--aitems-center\"><div class=\"grid-col\"><div><i class=\"topbets__icon icon-football\"></i> <span class=\"topbets__icon-name\">Football |</span> <time data-type=\"event-starttime\" datetime=\"2021-04-11T19:00:00.000Z\" class=\"eventStartTime localisable topbets__list-item--time\"></time></div><h3 class=\"topbets__list-item--event\">Over 1.5 - Total Match Goals Over/Under 1.5 Goals</h3><a class=\"topbets__list-item--link\" href=\"/betting/en-gb/football/OB_EV20106699/real-betis-vs-atletico-madrid\">Real Betis v Atletico Madrid</a></div><div id=\"OB_MA934625949\" class=\"grid-col grid-col--shrink\" data-entityid=\"OB_MA934625949\" data-displayed=\"true\" data-status=\"A\" data-betinrun=\"false\"><button id=\"OB_OU3110580910\" class=\"btn betbutton oddsbutton\" aria-label=\"Over 1.5 at 2/5\" data-name=\"Over 1.5\" data-displayed=\"true\" data-status=\"A\" data-player=\"Over 1.5\" data-entityid=\"OB_OU3110580910\" data-market=\"OB_MA934625949\" data-event=\"OB_EV20106699\" data-odds=\"2/5\" data-num=\"2\" data-denom=\"5\" data-goal-name=\"Goal\"><span class=\"betbutton__odds\">2/5</span> <span class=\"icon\"></span></button></div></div></li><li class=\"topbets__list-item\" id=\"OB_EV20106699\" data-entityid=\"OB_EV20106699\" data-displayed=\"true\" data-betinrun=\"false\"><div class=\"grid grid--aitems-center\"><div class=\"grid-col\"><div><i class=\"topbets__icon icon-football\"></i> <span class=\"topbets__icon-name\">Football |</span> <time data-type=\"event-starttime\" datetime=\"2021-04-11T19:00:00.000Z\" class=\"eventStartTime localisable topbets__list-item--time\"></time></div><h3 class=\"topbets__list-item--event\">Atletico Madrid - Match Result and Both Teams To Score</h3><a class=\"topbets__list-item--link\" href=\"/betting/en-gb/football/OB_EV20106699/real-betis-vs-atletico-madrid\">Real Betis v Atletico Madrid</a></div><div id=\"OB_MA934625960\" class=\"grid-col grid-col--shrink\" data-entityid=\"OB_MA934625960\" data-displayed=\"true\" data-status=\"A\" data-betinrun=\"false\"><button id=\"OB_OU3110580919\" class=\"btn betbutton oddsbutton\" aria-label=\"Atletico Madrid at 15/4\" data-name=\"Atletico Madrid\" data-displayed=\"true\" data-status=\"A\" data-player=\"Atletico Madrid\" data-entityid=\"OB_OU3110580919\" data-market=\"OB_MA934625960\" data-event=\"OB_EV20106699\" data-odds=\"15/4\" data-num=\"15\" data-denom=\"4\" data-goal-name=\"Goal\"><span class=\"betbutton__odds\">15/4</span> <span class=\"icon\"></span></button></div></div></li><li class=\"topbets__list-item\" id=\"OB_EV20185837\" data-entityid=\"OB_EV20185837\" data-displayed=\"true\" data-betinrun=\"false\"><div class=\"grid grid--aitems-center\"><div class=\"grid-col\"><div><i class=\"topbets__icon icon-football\"></i> <span class=\"topbets__icon-name\">Football |</span> <time data-type=\"event-starttime\" datetime=\"2021-04-11T19:00:00.000Z\" class=\"eventStartTime localisable topbets__list-item--time\"></time></div><h3 class=\"topbets__list-item--event\">Over 1.5 - Total Match Goals Over/Under 1.5 Goals</h3><a class=\"topbets__list-item--link\" href=\"/betting/en-gb/football/OB_EV20185837/lyon-vs-angers\">Lyon v Angers</a></div><div id=\"OB_MA937690509\" class=\"grid-col grid-col--shrink\" data-entityid=\"OB_MA937690509\" data-displayed=\"true\" data-status=\"A\" data-betinrun=\"false\"><button id=\"OB_OU3121467580\" class=\"btn betbutton oddsbutton\" aria-label=\"Over 1.5 at 1/5\" data-name=\"Over 1.5\" data-displayed=\"true\" data-status=\"A\" data-player=\"Over 1.5\" data-entityid=\"OB_OU3121467580\" data-market=\"OB_MA937690509\" data-event=\"OB_EV20185837\" data-odds=\"1/5\" data-num=\"1\" data-denom=\"5\" data-goal-name=\"Goal\"><span class=\"betbutton__odds\">1/5</span> <span class=\"icon\"></span></button></div></div></li><li class=\"topbets__list-item\" id=\"OB_EV20240488\" data-entityid=\"OB_EV20240488\" data-displayed=\"true\" data-betinrun=\"false\"><div class=\"grid grid--aitems-center\"><div class=\"grid-col\"><div><i class=\"topbets__icon icon-football\"></i> <span class=\"topbets__icon-name\">Football |</span> <time data-type=\"event-starttime\" datetime=\"2021-04-11T19:00:00.000Z\" class=\"eventStartTime localisable topbets__list-item--time\"></time></div><h3 class=\"topbets__list-item--event\">Over 1.5 - Total Match Goals Over/Under 1.5 Goals</h3><a class=\"topbets__list-item--link\" href=\"/betting/en-gb/football/OB_EV20240488/sporting-lisbon-vs-famalicao\">Sporting Lisbon v Famalicao</a></div><div id=\"OB_MA939935608\" class=\"grid-col grid-col--shrink\" data-entityid=\"OB_MA939935608\" data-displayed=\"true\" data-status=\"A\" data-betinrun=\"false\"><button id=\"OB_OU3129605353\" class=\"btn betbutton oddsbutton\" aria-label=\"Over 1.5 at 2/5\" data-name=\"Over 1.5\" data-displayed=\"true\" data-status=\"A\" data-player=\"Over 1.5\" data-entityid=\"OB_OU3129605353\" data-market=\"OB_MA939935608\" data-event=\"OB_EV20240488\" data-odds=\"2/5\" data-num=\"2\" data-denom=\"5\" data-goal-name=\"Goal\"><span class=\"betbutton__odds\">2/5</span> <span class=\"icon\"></span></button></div></div></li><li class=\"topbets__list-item\" id=\"OB_EV20106699\" data-entityid=\"OB_EV20106699\" data-displayed=\"true\" data-betinrun=\"false\"><div class=\"grid grid--aitems-center\"><div class=\"grid-col\"><div><i class=\"topbets__icon icon-football\"></i> <span class=\"topbets__icon-name\">Football |</span> <time data-type=\"event-starttime\" datetime=\"2021-04-11T19:00:00.000Z\" class=\"eventStartTime localisable topbets__list-item--time\"></time></div><h3 class=\"topbets__list-item--event\">Atletico Madrid ... - Double Chance</h3><a class=\"topbets__list-item--link\" href=\"/betting/en-gb/football/OB_EV20106699/real-betis-vs-atletico-madrid\">Real Betis v Atletico Madrid</a></div><div id=\"OB_MA934625864\" class=\"grid-col grid-col--shrink\" data-entityid=\"OB_MA934625864\" data-displayed=\"true\" data-status=\"A\" data-betinrun=\"false\"><button id=\"OB_OU3110580641\" class=\"btn betbutton oddsbutton\" aria-label=\"Atletico Madrid ... at 2/7\" data-name=\"Atletico Madrid ...\" data-displayed=\"true\" data-status=\"A\" data-player=\"Atletico Madrid ...\" data-entityid=\"OB_OU3110580641\" data-market=\"OB_MA934625864\" data-event=\"OB_EV20106699\" data-odds=\"2/7\" data-num=\"2\" data-denom=\"7\" data-goal-name=\"Goal\"><span class=\"betbutton__odds\">2/7</span> <span class=\"icon\"></span></button></div></div></li></ul><div class=\"topbets__footer -text-center\"><a href=\"/betting/en-gb/apps/top-bets\">View All Top Bets</a></div></div></div></div></aside></div><div id=\"betslip-overlay\" class=\"wh-overlay wh-overlay--blue-dark betslip-overlay\"></div></div><style>.sb-scroll-to-top{\"\"\"\n",
    "re.findall(\".........................................Lyon v Angers.......................................\",teststr)"
   ]
  },
  {
   "cell_type": "code",
   "execution_count": 162,
   "metadata": {},
   "outputs": [],
   "source": [
    "def make_live_data(live_data, team_dict):\n",
    "\n",
    "\n",
    "    training_data = pd.DataFrame(columns=['Date','HomeTeam', 'AwayTeam', 'DaysSinceLastHTMatch', 'DaysSinceLastATMatch', 'HomeTeamForm', 'AwayTeamForm',\n",
    "                                          'HomeTeamHomeForm','AwayTeamAwayForm', 'HomeTeamOffense', 'HomeTeamDefense',\n",
    "                                          'AwayTeamOffense', 'AwayTeamDefense', 'LastInterTeamGame', \n",
    "                                           'Result'])\n",
    "\n",
    "\n",
    "    history = pd.Timedelta('90d')\n",
    "    year = pd.Timedelta('365d')\n",
    "    for i in tqdm(range(len(live_data))):#\n",
    "        game = live_data[i]\n",
    "        home_team = game[1]\n",
    "        away_team = game[2]\n",
    "        game_date = pd.to_datetime(game[0]) \n",
    "\n",
    "        if home_team not in team_dict.keys() and away_team not in team_dict.keys():\n",
    "            continue\n",
    "        elif home_team not in team_dict.keys():\n",
    "            home_team, away_team = unknown_team(home_team, away_team, team_dict, unknown=\"home\")\n",
    "        elif away_team not in team_dict.keys():\n",
    "            home_team, away_team = unknown_team(home_team, away_team, team_dict, unknown=\"away\")\n",
    "        \n",
    "        ht_games = team_dict[home_team].loc[game_date - pd.Timedelta('1h'):game_date - year]\n",
    "        at_games = team_dict[away_team].loc[game_date - pd.Timedelta('1h'):game_date - year]\n",
    "\n",
    "        #result = game['FTR']\n",
    "        result = 0\n",
    "\n",
    "        ht_hgames = ht_games.iloc[np.where(ht_games['hometeam'] == home_team)]\n",
    "        ht_agames = ht_games.iloc[np.where(ht_games['awayteam'] == home_team)]\n",
    "\n",
    "        at_hgames = at_games.iloc[np.where(at_games['hometeam'] == away_team)]\n",
    "        at_agames = at_games.iloc[np.where(at_games['awayteam'] == away_team)]\n",
    "\n",
    "\n",
    "        if len(ht_hgames) > 1 and len(at_agames) > 1:\n",
    "\n",
    "            ht_time_diff = np.log((game_date - ht_games.index).days.values + 1)\n",
    "            at_time_diff = np.log((game_date - at_games.index).days.values + 1)\n",
    "\n",
    "            ht_h_td = ht_time_diff[np.where(ht_games['hometeam'] == home_team)]\n",
    "            ht_a_td = ht_time_diff[np.where(ht_games['awayteam'] == home_team)]\n",
    "            at_h_td = at_time_diff[np.where(at_games['hometeam'] == away_team)]\n",
    "            at_a_td = at_time_diff[np.where(at_games['awayteam'] == away_team)]\n",
    "\n",
    "\n",
    "            it_games = np.append(np.where(ht_hgames['awayteam'] == away_team)[0],\n",
    "                                 np.where(ht_agames['hometeam'] == away_team)[0])\n",
    "\n",
    "            litgr = 0\n",
    "            if len(it_games) > 0:\n",
    "                litgr += np.mean((ht_games['fthg'].iloc[it_games].values - ht_games['ftag'].iloc[it_games].values) / ht_time_diff[it_games])\n",
    "\n",
    "            dslhtm = ht_time_diff[0]\n",
    "            dslatm = at_time_diff[0]\n",
    "\n",
    "            ht_form = np.mean(np.append(((ht_hgames['fthg'].values - ht_hgames['ftag'].values) / ht_h_td),\n",
    "                              (ht_agames['ftag'].values - ht_agames['fthg'].values) / ht_a_td))\n",
    "            at_form = np.mean(np.append((at_hgames['fthg'].values - at_hgames['ftag'].values) / at_h_td,\n",
    "                              (at_agames['ftag'].values - at_agames['fthg'].values) / at_a_td))\n",
    "\n",
    "            ht_hform = np.mean((ht_hgames['fthg'].values - ht_hgames['ftag'].values) / ht_h_td)\n",
    "            at_aform = np.mean((at_agames['ftag'].values - at_agames['fthg'].values) / at_a_td)\n",
    "\n",
    "            hto = np.mean(np.append(ht_hgames['fthg'].values / ht_h_td, ht_agames['ftag'].values / ht_a_td))\n",
    "            htd = -np.mean(np.append(ht_hgames['ftag'].values / ht_h_td, ht_agames['fthg'].values /ht_a_td))\n",
    "\n",
    "            ato = np.mean(np.append(at_hgames['fthg'] / at_h_td, at_agames['ftag'].values / at_a_td))\n",
    "            atd = -np.mean(np.append(at_hgames['ftag'].values / at_h_td, at_agames['fthg'].values / at_a_td))\n",
    "\n",
    "            \n",
    "            training_data = training_data.append(pd.DataFrame([[game_date,home_team, away_team, dslhtm, dslatm, ht_form, at_form, ht_hform, at_aform,\n",
    "                                                                hto, htd, ato, atd, litgr, result]], columns=training_data.columns))\n",
    "\n",
    "    return training_data\n",
    "    \n",
    "    "
   ]
  },
  {
   "cell_type": "code",
   "execution_count": 163,
   "metadata": {},
   "outputs": [
    {
     "name": "stderr",
     "output_type": "stream",
     "text": [
      "100%|███████████████████████████████████████████████████████████████████████████████| 686/686 [00:05<00:00, 126.56it/s]\n"
     ]
    }
   ],
   "source": [
    "training_data = make_live_data(games,team_dict)"
   ]
  },
  {
   "cell_type": "code",
   "execution_count": 164,
   "metadata": {},
   "outputs": [
    {
     "data": {
      "text/plain": [
       "DaysSinceLastHTMatch    1.203411\n",
       "DaysSinceLastATMatch    1.186577\n",
       "HomeTeamForm           -0.002533\n",
       "AwayTeamForm            0.002356\n",
       "HomeTeamHomeForm        0.053048\n",
       "AwayTeamAwayForm       -0.067949\n",
       "HomeTeamOffense         0.304641\n",
       "HomeTeamDefense        -0.307175\n",
       "AwayTeamOffense         0.317741\n",
       "AwayTeamDefense        -0.315385\n",
       "LastInterTeamGame       0.031931\n",
       "Result                  0.000000\n",
       "dtype: float64"
      ]
     },
     "execution_count": 164,
     "metadata": {},
     "output_type": "execute_result"
    }
   ],
   "source": [
    "training_data = training_data.reset_index(drop=True)\n",
    "training_data.mean()"
   ]
  },
  {
   "cell_type": "code",
   "execution_count": 165,
   "metadata": {},
   "outputs": [
    {
     "data": {
      "text/plain": [
       "(206, 15)"
      ]
     },
     "execution_count": 165,
     "metadata": {},
     "output_type": "execute_result"
    }
   ],
   "source": [
    "training_data.shape"
   ]
  },
  {
   "cell_type": "code",
   "execution_count": 166,
   "metadata": {},
   "outputs": [],
   "source": [
    "teams_playing = np.unique(np.array(games)[:,1].tolist() + np.array(games)[:,2].tolist())"
   ]
  },
  {
   "cell_type": "code",
   "execution_count": 167,
   "metadata": {},
   "outputs": [],
   "source": [
    "def get_odds_betfair():\n",
    "    html = PoolManager()\n",
    "    webpage = html.request(\"GET\",\"https://www.betfair.com/sport/football\")\n",
    "\n",
    "    webpage_l = webpage.data.decode(\"UTF-8\").lower()\n",
    "\n",
    "    end_cue = \"</span>\\n</div>\\n</a>\\n</div>\\n</div>\\n</div>\\n</li>\"\n",
    "    start_cue = '<div class=\"avb-col avb-col-markets\">'\n",
    "\n",
    "    wp_all_games = re.findall(f\"{start_cue}.*?{end_cue}\",webpage_l,flags=re.DOTALL)\n",
    "\n",
    "    game_odds = []\n",
    "\n",
    "    for wp in wp_all_games:\n",
    "        try:\n",
    "            odds = [float(o) for o in re.findall(\"(?<=\\n)\\d{1,2}\\.\\d{1,2}(?=\\n)\",wp)[2:]]\n",
    "            hometeam, awayteam = re.findall('<span class=\"team-name\" title=\"(.*?)\">',wp)\n",
    "\n",
    "            game_odds.append({\"hometeam\" : hometeam,\n",
    "                                \"awayteam\" : awayteam,\n",
    "                                \"homeodds\" : odds[0],\n",
    "                                \"awayodds\" : odds[-1]})\n",
    "        except Exception as e:\n",
    "            print(e)\n",
    "\n",
    "    return game_odds"
   ]
  },
  {
   "cell_type": "code",
   "execution_count": 168,
   "metadata": {},
   "outputs": [
    {
     "name": "stdout",
     "output_type": "stream",
     "text": [
      "list index out of range\n",
      "list index out of range\n"
     ]
    }
   ],
   "source": [
    "odds = pd.DataFrame(get_odds_betfair())"
   ]
  },
  {
   "cell_type": "code",
   "execution_count": 169,
   "metadata": {},
   "outputs": [],
   "source": [
    "odds = odds.loc[~((odds.homeodds > 3) & (odds.awayodds > 3))]"
   ]
  },
  {
   "cell_type": "code",
   "execution_count": 188,
   "metadata": {},
   "outputs": [
    {
     "name": "stdout",
     "output_type": "stream",
     "text": [
      "(42, 4)\n"
     ]
    },
    {
     "data": {
      "text/plain": [
       "15"
      ]
     },
     "execution_count": 188,
     "metadata": {},
     "output_type": "execute_result"
    }
   ],
   "source": [
    "#inntil videre så settes treff på minst ett lag som krav.\n",
    "print(odds.loc[odds.hometeam.isin(teams_playing) | odds.awayteam.isin(teams_playing)].shape)\n",
    "data_with_odds = training_data.merge(odds,left_on=\"HomeTeam\",right_on=\"hometeam\",how=\"inner\")\n",
    "data_with_odds = data_with_odds.append(training_data.merge(odds,left_on=\"AwayTeam\",right_on=\"awayteam\",how=\"inner\"))\n",
    "data_with_odds.shape[0]"
   ]
  },
  {
   "cell_type": "code",
   "execution_count": 194,
   "metadata": {},
   "outputs": [],
   "source": [
    "from xgboost import XGBClassifier\n",
    "gb = XGBClassifier()\n",
    "gb.load_model(\"model_2021.json\")"
   ]
  },
  {
   "cell_type": "code",
   "execution_count": 208,
   "metadata": {},
   "outputs": [],
   "source": [
    "pred_cols = ['DaysSinceLastHTMatch', 'DaysSinceLastATMatch', 'HomeTeamForm', 'AwayTeamForm',\n",
    "      'HomeTeamHomeForm','AwayTeamAwayForm', 'HomeTeamOffense', 'HomeTeamDefense',\n",
    "      'AwayTeamOffense', 'AwayTeamDefense', 'LastInterTeamGame', \n",
    "      'HomeTeamOdds', 'AwayTeamOdds']\n",
    "\n",
    "livepreds = gb.predict(data_with_odds.rename(columns={\"homeodds\":\"HomeTeamOdds\",\"awayodds\":\"AwayTeamOdds\"})[pred_cols])"
   ]
  },
  {
   "cell_type": "code",
   "execution_count": 214,
   "metadata": {},
   "outputs": [
    {
     "name": "stdout",
     "output_type": "stream",
     "text": [
      "bet_size = 16.666666666666668\n",
      "2018-11-04 00:00:00: west brom - southampton \n",
      "Away\n",
      "\n",
      "2018-11-04 00:00:00: brighton - everton \n",
      "Home\n",
      "\n",
      "2018-11-04 00:00:00: brighton - man city \n",
      "Home\n",
      "\n",
      "2018-11-04 00:00:00: hoffenheim - leverkusen \n",
      "Away\n",
      "\n",
      "2018-11-04 00:00:00: benevento - sassuolo \n",
      "Away\n",
      "\n",
      "2018-11-04 00:00:00: guingamp - toulouse \n",
      "Away\n",
      "\n",
      "2018-11-04 00:00:00: kasimpasa - yeni malatyaspor \n",
      "Home\n",
      "\n",
      "2018-11-04 00:00:00: west brom - southampton \n",
      "Away\n",
      "\n",
      "2018-11-04 00:00:00: brighton - everton \n",
      "Home\n",
      "\n",
      "2018-11-04 00:00:00: celta - sevilla \n",
      "Away\n",
      "\n",
      "2018-11-04 00:00:00: sociedad - sevilla \n",
      "Away\n",
      "\n",
      "2018-11-04 00:00:00: hoffenheim - leverkusen \n",
      "Away\n",
      "\n",
      "2018-11-04 00:00:00: benevento - sassuolo \n",
      "Away\n",
      "\n",
      "2018-11-04 00:00:00: guingamp - toulouse \n",
      "Away\n",
      "\n",
      "2018-11-04 00:00:00: giannina - lamia \n",
      "Home\n",
      "\n"
     ]
    }
   ],
   "source": [
    "def bet_size(cash, n_bets):\n",
    "    return (cash*0.25) / n_bets\n",
    "\n",
    "print(f\"bet_size = {bet_size(1000,len(livepreds))}\")\n",
    "for i in range(len(livepreds)):\n",
    "    print(f\"{data_with_odds.iloc[i].Date}: {data_with_odds.iloc[i].HomeTeam} - {data_with_odds.iloc[i].AwayTeam} \")\n",
    "    print([\"Away\",\"Draw\",\"Home\"][livepreds[i]])\n",
    "    print()"
   ]
  },
  {
   "cell_type": "code",
   "execution_count": 207,
   "metadata": {},
   "outputs": [
    {
     "data": {
      "text/plain": [
       "array([0.46973372, 0.269813  , 0.26045328], dtype=float32)"
      ]
     },
     "execution_count": 207,
     "metadata": {},
     "output_type": "execute_result"
    }
   ],
   "source": [
    "livepreds[i]"
   ]
  },
  {
   "cell_type": "code",
   "execution_count": null,
   "metadata": {},
   "outputs": [],
   "source": []
  },
  {
   "cell_type": "code",
   "execution_count": null,
   "metadata": {},
   "outputs": [],
   "source": []
  },
  {
   "cell_type": "code",
   "execution_count": null,
   "metadata": {},
   "outputs": [],
   "source": []
  },
  {
   "cell_type": "code",
   "execution_count": null,
   "metadata": {},
   "outputs": [],
   "source": []
  },
  {
   "cell_type": "code",
   "execution_count": null,
   "metadata": {},
   "outputs": [],
   "source": []
  },
  {
   "cell_type": "code",
   "execution_count": null,
   "metadata": {},
   "outputs": [],
   "source": []
  },
  {
   "cell_type": "code",
   "execution_count": null,
   "metadata": {},
   "outputs": [],
   "source": []
  },
  {
   "cell_type": "code",
   "execution_count": null,
   "metadata": {},
   "outputs": [],
   "source": []
  },
  {
   "cell_type": "code",
   "execution_count": null,
   "metadata": {},
   "outputs": [],
   "source": []
  },
  {
   "cell_type": "code",
   "execution_count": null,
   "metadata": {
    "collapsed": true
   },
   "outputs": [],
   "source": []
  },
  {
   "cell_type": "code",
   "execution_count": null,
   "metadata": {
    "collapsed": true
   },
   "outputs": [],
   "source": []
  }
 ],
 "metadata": {
  "kernelspec": {
   "display_name": "Python 3",
   "language": "python",
   "name": "python3"
  },
  "language_info": {
   "codemirror_mode": {
    "name": "ipython",
    "version": 3
   },
   "file_extension": ".py",
   "mimetype": "text/x-python",
   "name": "python",
   "nbconvert_exporter": "python",
   "pygments_lexer": "ipython3",
   "version": "3.7.6"
  }
 },
 "nbformat": 4,
 "nbformat_minor": 2
}
