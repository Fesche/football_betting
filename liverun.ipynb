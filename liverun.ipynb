{
 "cells": [
  {
   "cell_type": "code",
   "execution_count": 1,
   "metadata": {},
   "outputs": [
    {
     "name": "stderr",
     "output_type": "stream",
     "text": [
      "Using TensorFlow backend.\n"
     ]
    }
   ],
   "source": [
    "import pandas as pd\n",
    "import numpy as np\n",
    "from matplotlib import pyplot as plt\n",
    "from tqdm import tqdm\n",
    "import os\n",
    "from keras.models import load_model\n",
    "import urllib.request\n",
    "import re"
   ]
  },
  {
   "cell_type": "markdown",
   "metadata": {},
   "source": [
    "## Find odds for 7 days at a time."
   ]
  },
  {
   "cell_type": "markdown",
   "metadata": {},
   "source": [
    "### Source 1: soccerbase"
   ]
  },
  {
   "cell_type": "code",
   "execution_count": 2,
   "metadata": {
    "collapsed": true
   },
   "outputs": [],
   "source": [
    "import gzip\n",
    "import urllib.request\n",
    "games = []"
   ]
  },
  {
   "cell_type": "code",
   "execution_count": 3,
   "metadata": {
    "collapsed": true
   },
   "outputs": [],
   "source": [
    "\n",
    "# url_string2 = None\n",
    "# with urllib.request.urlopen('http://www.soccerbase.com/matches/home.sd?type=2') as response:\n",
    "#     gzipFile = gzip.GzipFile(fileobj=response)\n",
    "#     url_string2 = gzipFile.read().decode(\"UTF-8\")\n",
    "#     url_string2 = re.search('(?<=soccer.gamelist.Timekeeper.addGames\\({).*?(?=soccer.gamelist)', url_string2)[0]\n"
   ]
  },
  {
   "cell_type": "code",
   "execution_count": 4,
   "metadata": {
    "collapsed": true
   },
   "outputs": [],
   "source": [
    "# matches = re.finditer('(?<=\\=)(.*?)\\_V\\_(.*?)\\=(.*?)\\\"', url_string2)\n",
    "# for match in matches:\n",
    "#     games.append([match[3],re.sub(\"_\", \" \", match[1]).lower(),re.sub(\"_\", \" \", match[2]).lower()])"
   ]
  },
  {
   "cell_type": "markdown",
   "metadata": {},
   "source": [
    "### Source 2: supersport"
   ]
  },
  {
   "cell_type": "code",
   "execution_count": 5,
   "metadata": {
    "collapsed": true
   },
   "outputs": [],
   "source": [
    "# response = urllib.request.urlopen('https://www.supersport.com/football/fixtures')\n",
    "# url_string = response.read()\n",
    "# url_string = url_string.decode(\"UTF-8\")\n",
    "# url_string = re.search('(?<=FIXTURES)(.|\\s)*', url_string)[0]"
   ]
  },
  {
   "cell_type": "code",
   "execution_count": 6,
   "metadata": {
    "collapsed": true
   },
   "outputs": [],
   "source": [
    "# dates = re.finditer(\"(?<=Header\\\">)(.*?)(?=class=\\\"table)\", url_string)\n",
    "\n",
    "# for day in dates:\n",
    "    \n",
    "#     date = re.search('.*?(?=</td>)',day[0])[0]\n",
    "#     matches = re.finditer(\"(?<=>)(..:..)(.*?)(?=</td><td class)\",day[0])\n",
    "    \n",
    "#     for match in matches:\n",
    "#         time_of_match = match[0][:5]\n",
    "#         teams_re = re.finditer(\"(?<=st\\'>)(.*?)(?=</td>)\", match[0])\n",
    "#         game = [date]\n",
    "#         for team in teams_re:\n",
    "            \n",
    "#             game.append(team[0].lower())\n",
    "#         games.append(game)"
   ]
  },
  {
   "cell_type": "markdown",
   "metadata": {},
   "source": [
    "### Source 3: thefishy"
   ]
  },
  {
   "cell_type": "code",
   "execution_count": 7,
   "metadata": {
    "collapsed": true
   },
   "outputs": [],
   "source": [
    "url_string3 = None\n",
    "with urllib.request.urlopen('https://thefishy.co.uk/nextweeksfixtures.php') as response:\n",
    "    url_string3 = response.read().decode(\"UTF-8\") + \" 12/12</th>\""
   ]
  },
  {
   "cell_type": "code",
   "execution_count": 8,
   "metadata": {
    "collapsed": true
   },
   "outputs": [],
   "source": [
    "dates = re.finditer(\"(\\ ../..<(.|\\s)*?)(?=\\ \\w\\w/\\w\\w</th>)\", url_string3)\n",
    "\n",
    "for date in dates:\n",
    "    day = date[0][1:6] + \"/18\"\n",
    "    matches = re.finditer(\"(?<=\\'>)(.*?)\\ v\\ (.*?)(?=<)\", date[0])\n",
    "    for match in matches:\n",
    "        away_team = match[2]\n",
    "        home_team = re.search('(?<=team2)(.*?>)(.*?)(?=$)',match[1])[2]\n",
    "        \n",
    "#         print(home_team, away_team)\n",
    "        \n",
    "        games.append([day, home_team.lower(), away_team.lower()])\n"
   ]
  },
  {
   "cell_type": "code",
   "execution_count": 9,
   "metadata": {},
   "outputs": [
    {
     "name": "stdout",
     "output_type": "stream",
     "text": [
      "Downloading  http://www.football-data.co.uk/mmz4281/1718/data.zip\n",
      "Downloading  http://www.football-data.co.uk/mmz4281/1617/data.zip\n",
      "Downloading  http://www.football-data.co.uk/mmz4281/1516/data.zip\n",
      "Downloading  http://www.football-data.co.uk/mmz4281/1415/data.zip\n",
      "Downloading  http://www.football-data.co.uk/mmz4281/1314/data.zip\n",
      "Downloading  http://www.football-data.co.uk/mmz4281/1213/data.zip\n",
      "Downloading  http://www.football-data.co.uk/mmz4281/1112/data.zip\n",
      "Downloading  http://www.football-data.co.uk/mmz4281/1011/data.zip\n",
      "Downloading  http://www.football-data.co.uk/mmz4281/0910/data.zip\n",
      "Downloading  http://www.football-data.co.uk/mmz4281/0809/data.zip\n",
      "Downloading  http://www.football-data.co.uk/mmz4281/0708/data.zip\n",
      "Downloading  http://www.football-data.co.uk/mmz4281/0607/data.zip\n",
      "Downloading  http://www.football-data.co.uk/mmz4281/0506/data.zip\n",
      "Downloading  http://www.football-data.co.uk/mmz4281/0405/data.zip\n",
      "Downloading  http://www.football-data.co.uk/mmz4281/0304/data.zip\n",
      "Downloading  http://www.football-data.co.uk/mmz4281/0203/data.zip\n",
      "Downloading  http://www.football-data.co.uk/mmz4281/0102/data.zip\n",
      "Downloading  http://www.football-data.co.uk/mmz4281/0001/data.zip\n",
      "Downloading  http://www.football-data.co.uk/mmz4281/9900/data.zip\n",
      "Downloading  http://www.football-data.co.uk/mmz4281/9899/data.zip\n",
      "Downloading  http://www.football-data.co.uk/mmz4281/9798/data.zip\n",
      "Downloading  http://www.football-data.co.uk/mmz4281/9697/data.zip\n",
      "Downloading  http://www.football-data.co.uk/mmz4281/9596/data.zip\n",
      "Downloading  http://www.football-data.co.uk/mmz4281/9495/data.zip\n",
      "Downloading  http://www.football-data.co.uk/mmz4281/9394/data.zip\n",
      "unzipping  ../../Football_Data/Zipstash\\data_0.zip\n",
      "unzipping  ../../Football_Data/Zipstash\\data_1.zip\n",
      "unzipping  ../../Football_Data/Zipstash\\data_10.zip\n",
      "unzipping  ../../Football_Data/Zipstash\\data_11.zip\n",
      "unzipping  ../../Football_Data/Zipstash\\data_12.zip\n",
      "unzipping  ../../Football_Data/Zipstash\\data_13.zip\n",
      "unzipping  ../../Football_Data/Zipstash\\data_14.zip\n",
      "unzipping  ../../Football_Data/Zipstash\\data_15.zip\n",
      "unzipping  ../../Football_Data/Zipstash\\data_16.zip\n",
      "unzipping  ../../Football_Data/Zipstash\\data_17.zip\n",
      "unzipping  ../../Football_Data/Zipstash\\data_18.zip\n",
      "unzipping  ../../Football_Data/Zipstash\\data_19.zip\n",
      "unzipping  ../../Football_Data/Zipstash\\data_2.zip\n",
      "unzipping  ../../Football_Data/Zipstash\\data_20.zip\n",
      "unzipping  ../../Football_Data/Zipstash\\data_21.zip\n",
      "unzipping  ../../Football_Data/Zipstash\\data_22.zip\n",
      "unzipping  ../../Football_Data/Zipstash\\data_23.zip\n",
      "unzipping  ../../Football_Data/Zipstash\\data_24.zip\n",
      "unzipping  ../../Football_Data/Zipstash\\data_3.zip\n",
      "unzipping  ../../Football_Data/Zipstash\\data_4.zip\n",
      "unzipping  ../../Football_Data/Zipstash\\data_5.zip\n",
      "unzipping  ../../Football_Data/Zipstash\\data_6.zip\n",
      "unzipping  ../../Football_Data/Zipstash\\data_7.zip\n",
      "unzipping  ../../Football_Data/Zipstash\\data_8.zip\n",
      "unzipping  ../../Football_Data/Zipstash\\data_9.zip\n"
     ]
    }
   ],
   "source": [
    "%run update_stash.py"
   ]
  },
  {
   "cell_type": "code",
   "execution_count": 10,
   "metadata": {
    "collapsed": true
   },
   "outputs": [],
   "source": [
    "all_seasons = []\n",
    "for filename in os.listdir('C:/Users/bfesc/Documents/Football_Data/Stash/'):\n",
    "    #if filename[0] == 'B':\n",
    "    with open(\"C:/Users/bfesc/Documents/Football_Data/Stash/\" + filename) as file:\n",
    "        season = file.read().rstrip().split('\\n')\n",
    "        for i in range(len(season)):\n",
    "            season[i] = season[i].rstrip(',').split(',')\n",
    "            for j in range(len(season[i])):\n",
    "                season[i][j] = season[i][j].lower()\n",
    "        all_seasons.append(season)"
   ]
  },
  {
   "cell_type": "code",
   "execution_count": 11,
   "metadata": {},
   "outputs": [
    {
     "name": "stdout",
     "output_type": "stream",
     "text": [
      "(198678, 7)\n",
      "(178793, 5)\n"
     ]
    }
   ],
   "source": [
    "smallest_season = np.argmin([len(season[0]) for season in all_seasons])\n",
    "columns = ['div', 'date', 'hometeam', 'awayteam', 'fthg', 'ftag', 'ftr']\n",
    "\n",
    "all_data = pd.DataFrame(columns=columns)\n",
    "for season in all_seasons:\n",
    "    if not np.in1d(columns, season[0]).all():\n",
    "        continue\n",
    "    if len(season[0]) != max([len(s) for s in season]):\n",
    "        for i in range(len(season)):\n",
    "            season[i] = season[i][:len(season[0])]\n",
    "    df = pd.DataFrame(season[1:])\n",
    "    df.columns = season[0]\n",
    "    all_data = all_data.append(df[columns])\n",
    "\n",
    "all_data['date'] = pd.to_datetime(all_data['date'], dayfirst=True)\n",
    "print(all_data.shape)\n",
    "all_data.index = all_data['date']\n",
    "all_data = all_data.drop(columns=['date','div'])\n",
    "for column in all_data.columns:\n",
    "    all_data = all_data[pd.notnull(all_data[column])]\n",
    "all_data = all_data[pd.notnull(all_data.index)]\n",
    "all_data = all_data.iloc[np.where(all_data['fthg'] != \"\")]\n",
    "all_data = all_data.sort_index(ascending=False)\n",
    "all_data['ftr'].iloc[np.where(all_data['ftr'] == 'a')] = -1\n",
    "all_data['ftr'].iloc[np.where(all_data['ftr'] == 'd')] = 0\n",
    "all_data['ftr'].iloc[np.where(all_data['ftr'] == 'h')] = 1\n",
    "all_data['fthg'] = all_data['fthg'].astype(int)\n",
    "all_data['ftag'] = all_data['ftag'].astype(int)\n",
    "print(all_data.shape)"
   ]
  },
  {
   "cell_type": "code",
   "execution_count": 12,
   "metadata": {
    "collapsed": true
   },
   "outputs": [],
   "source": [
    "from difflib import SequenceMatcher\n",
    "\n",
    "def unknown_team(home_team, away_team, team_dict, unknown = \"away\"):\n",
    "\n",
    "    if unknown == \"away\":\n",
    "        team_scores = []\n",
    "        teams = team_dict[home_team]['awayteam'] #Away or HomeTeam doesnt really matter \n",
    "        \n",
    "        for team in teams:\n",
    "            team_scores.append(SequenceMatcher(None,team,away_team).ratio())\n",
    "        \n",
    "        team_scores = np.argsort(team_scores)\n",
    "        \n",
    "        away_team = teams[team_scores[-1]]\n",
    "    \n",
    "    else:\n",
    "        teams = team_dict[away_team]['hometeam']\n",
    "        team_scores = []\n",
    "            \n",
    "        for team in teams:\n",
    "            team_scores.append(SequenceMatcher(None,team,home_team).ratio())\n",
    "        \n",
    "        team_scores = np.argsort(team_scores)\n",
    "        \n",
    "        home_team = teams[team_scores[-1]]\n",
    "        \n",
    "        #if team_scores[-1] < 0.4\n",
    "        \n",
    "    return home_team, away_team\n"
   ]
  },
  {
   "cell_type": "code",
   "execution_count": 13,
   "metadata": {
    "collapsed": true
   },
   "outputs": [],
   "source": [
    "def make_team_dicts(data):\n",
    "    all_teams = np.unique(np.append(data['hometeam'].str.lower(), data['awayteam'].str.lower()))\n",
    "    team_dict = {}\n",
    "    \n",
    "    for team in all_teams:\n",
    "        team_dict[team] = data.iloc[np.where(np.logical_or(data['hometeam'] == team, \n",
    "                                                      data['awayteam'] == team))].sort_index(ascending=False)\n",
    "        \n",
    "    return team_dict"
   ]
  },
  {
   "cell_type": "code",
   "execution_count": 14,
   "metadata": {
    "collapsed": true
   },
   "outputs": [],
   "source": [
    "team_dict = make_team_dicts(all_data)"
   ]
  },
  {
   "cell_type": "code",
   "execution_count": 15,
   "metadata": {},
   "outputs": [
    {
     "data": {
      "text/plain": [
       "('dortmund', 'bayern munich')"
      ]
     },
     "execution_count": 15,
     "metadata": {},
     "output_type": "execute_result"
    }
   ],
   "source": [
    "# Sanity check\n",
    "unknown_team(\"dortmund\", \"bayern münchen\", team_dict)"
   ]
  },
  {
   "cell_type": "code",
   "execution_count": 16,
   "metadata": {
    "collapsed": true
   },
   "outputs": [],
   "source": [
    "def make_live_data(live_data, team_dict):\n",
    "\n",
    "\n",
    "    training_data = pd.DataFrame(columns=['Date','HomeTeam', 'AwayTeam', 'DaysSinceLastHTMatch', 'DaysSinceLastATMatch', 'HomeTeamForm', 'AwayTeamForm',\n",
    "                                            'HomeTeamHomeForm','AwayTeamAwayForm', 'HomeTeamOffense', 'HomeTeamDefense',\n",
    "                                          'AwayTeamOffense', 'AwayTeamDefense', 'LastInterTeamGame', 'Result'])\n",
    "\n",
    "\n",
    "    history = pd.Timedelta('90d')\n",
    "    year = pd.Timedelta('365d')\n",
    "    for i in tqdm(range(len(live_data))):#\n",
    "        game = live_data[i]\n",
    "        home_team = game[1]\n",
    "        away_team = game[2]\n",
    "        game_date = pd.to_datetime(game[0]) \n",
    "\n",
    "        if home_team not in team_dict.keys() and away_team not in team_dict.keys():\n",
    "            continue\n",
    "        elif home_team not in team_dict.keys():\n",
    "            home_team, away_team = unknown_team(home_team, away_team, team_dict, unknown=\"home\")\n",
    "        elif away_team not in team_dict.keys():\n",
    "            home_team, away_team = unknown_team(home_team, away_team, team_dict, unknown=\"away\")\n",
    "        \n",
    "        ht_games = team_dict[home_team].loc[game_date - pd.Timedelta('1h'):game_date - year]\n",
    "        at_games = team_dict[away_team].loc[game_date - pd.Timedelta('1h'):game_date - year]\n",
    "\n",
    "        #result = game['FTR']\n",
    "        result = 0\n",
    "\n",
    "        ht_hgames = ht_games.iloc[np.where(ht_games['hometeam'] == home_team)]\n",
    "        ht_agames = ht_games.iloc[np.where(ht_games['awayteam'] == home_team)]\n",
    "\n",
    "        at_hgames = at_games.iloc[np.where(at_games['hometeam'] == away_team)]\n",
    "        at_agames = at_games.iloc[np.where(at_games['awayteam'] == away_team)]\n",
    "\n",
    "\n",
    "        if len(ht_hgames) > 1 and len(at_agames) > 1:\n",
    "\n",
    "            ht_time_diff = np.log((game_date - ht_games.index).days.values + 1)\n",
    "            at_time_diff = np.log((game_date - at_games.index).days.values + 1)\n",
    "\n",
    "            ht_h_td = ht_time_diff[np.where(ht_games['hometeam'] == home_team)]\n",
    "            ht_a_td = ht_time_diff[np.where(ht_games['awayteam'] == home_team)]\n",
    "            at_h_td = at_time_diff[np.where(at_games['hometeam'] == away_team)]\n",
    "            at_a_td = at_time_diff[np.where(at_games['awayteam'] == away_team)]\n",
    "\n",
    "\n",
    "            it_games = np.append(np.where(ht_hgames['awayteam'] == away_team)[0],\n",
    "                                 np.where(ht_agames['hometeam'] == away_team)[0])\n",
    "\n",
    "            litgr = 0\n",
    "            if len(it_games) > 0:\n",
    "                litgr += np.mean((ht_games['fthg'].iloc[it_games].values - ht_games['ftag'].iloc[it_games].values) / ht_time_diff[it_games])\n",
    "\n",
    "            dslhtm = ht_time_diff[0]\n",
    "            dslatm = at_time_diff[0]\n",
    "\n",
    "            ht_form = np.mean(np.append(((ht_hgames['fthg'].values - ht_hgames['ftag'].values) / ht_h_td),\n",
    "                              (ht_agames['ftag'].values - ht_agames['fthg'].values) / ht_a_td))\n",
    "            at_form = np.mean(np.append((at_hgames['fthg'].values - at_hgames['ftag'].values) / at_h_td,\n",
    "                              (at_agames['ftag'].values - at_agames['fthg'].values) / at_a_td))\n",
    "\n",
    "            ht_hform = np.mean((ht_hgames['fthg'].values - ht_hgames['ftag'].values) / ht_h_td)\n",
    "            at_aform = np.mean((at_agames['ftag'].values - at_agames['fthg'].values) / at_a_td)\n",
    "\n",
    "            hto = np.mean(np.append(ht_hgames['fthg'].values / ht_h_td, ht_agames['ftag'].values / ht_a_td))\n",
    "            htd = -np.mean(np.append(ht_hgames['ftag'].values / ht_h_td, ht_agames['fthg'].values /ht_a_td))\n",
    "\n",
    "            ato = np.mean(np.append(at_hgames['fthg'] / at_h_td, at_agames['ftag'].values / at_a_td))\n",
    "            atd = -np.mean(np.append(at_hgames['ftag'].values / at_h_td, at_agames['fthg'].values / at_a_td))\n",
    "\n",
    "\n",
    "            training_data = training_data.append(pd.DataFrame([[game_date,home_team, away_team, dslhtm, dslatm, ht_form, at_form, ht_hform, at_aform,\n",
    "                                                                hto, htd, ato, atd, litgr, result]], columns=training_data.columns))\n",
    "\n",
    "    return training_data\n",
    "    \n",
    "    "
   ]
  },
  {
   "cell_type": "code",
   "execution_count": 17,
   "metadata": {},
   "outputs": [
    {
     "name": "stderr",
     "output_type": "stream",
     "text": [
      "100%|████████████████████████████████████████████████████████████████████████████████| 295/295 [00:03<00:00, 92.64it/s]\n"
     ]
    }
   ],
   "source": [
    "training_data = make_live_data(games,team_dict)"
   ]
  },
  {
   "cell_type": "code",
   "execution_count": 18,
   "metadata": {},
   "outputs": [
    {
     "data": {
      "text/plain": [
       "DaysSinceLastHTMatch    3.996519\n",
       "DaysSinceLastATMatch    3.994774\n",
       "HomeTeamForm            0.016379\n",
       "AwayTeamForm            0.015977\n",
       "HomeTeamHomeForm        0.076933\n",
       "AwayTeamAwayForm       -0.048920\n",
       "HomeTeamOffense         0.266265\n",
       "HomeTeamDefense        -0.249886\n",
       "AwayTeamOffense         0.270365\n",
       "AwayTeamDefense        -0.254388\n",
       "dtype: float64"
      ]
     },
     "execution_count": 18,
     "metadata": {},
     "output_type": "execute_result"
    }
   ],
   "source": [
    "training_data = training_data.reset_index(drop=True)\n",
    "training_data.mean()"
   ]
  },
  {
   "cell_type": "code",
   "execution_count": 19,
   "metadata": {},
   "outputs": [
    {
     "data": {
      "text/plain": [
       "(127, 15)"
      ]
     },
     "execution_count": 19,
     "metadata": {},
     "output_type": "execute_result"
    }
   ],
   "source": [
    "training_data.shape"
   ]
  },
  {
   "cell_type": "code",
   "execution_count": 20,
   "metadata": {
    "collapsed": true
   },
   "outputs": [],
   "source": [
    "import tensorflow as tf\n",
    "\n",
    "X = training_data[['DaysSinceLastHTMatch', 'DaysSinceLastATMatch', 'HomeTeamForm', 'AwayTeamForm',\n",
    "                                            'HomeTeamHomeForm','AwayTeamAwayForm', 'HomeTeamOffense', 'HomeTeamDefense',\n",
    "                                          'AwayTeamOffense', 'AwayTeamDefense', 'LastInterTeamGame']]\n",
    "with tf.device('/cpu:0'):\n",
    "    model = load_model('football_model.h5')"
   ]
  },
  {
   "cell_type": "code",
   "execution_count": 21,
   "metadata": {
    "collapsed": true
   },
   "outputs": [],
   "source": [
    "pred = None\n",
    "with tf.device('/cpu:0'):\n",
    "    pred = model.predict(X)"
   ]
  },
  {
   "cell_type": "code",
   "execution_count": 22,
   "metadata": {},
   "outputs": [
    {
     "data": {
      "text/html": [
       "<div>\n",
       "<style scoped>\n",
       "    .dataframe tbody tr th:only-of-type {\n",
       "        vertical-align: middle;\n",
       "    }\n",
       "\n",
       "    .dataframe tbody tr th {\n",
       "        vertical-align: top;\n",
       "    }\n",
       "\n",
       "    .dataframe thead th {\n",
       "        text-align: right;\n",
       "    }\n",
       "</style>\n",
       "<table border=\"1\" class=\"dataframe\">\n",
       "  <thead>\n",
       "    <tr style=\"text-align: right;\">\n",
       "      <th></th>\n",
       "      <th>Date</th>\n",
       "      <th>HomeTeam</th>\n",
       "      <th>AwayTeam</th>\n",
       "      <th>DaysSinceLastHTMatch</th>\n",
       "      <th>DaysSinceLastATMatch</th>\n",
       "      <th>HomeTeamForm</th>\n",
       "      <th>AwayTeamForm</th>\n",
       "      <th>HomeTeamHomeForm</th>\n",
       "      <th>AwayTeamAwayForm</th>\n",
       "      <th>HomeTeamOffense</th>\n",
       "      <th>HomeTeamDefense</th>\n",
       "      <th>AwayTeamOffense</th>\n",
       "      <th>AwayTeamDefense</th>\n",
       "      <th>LastInterTeamGame</th>\n",
       "      <th>Result</th>\n",
       "    </tr>\n",
       "  </thead>\n",
       "  <tbody>\n",
       "    <tr>\n",
       "      <th>0</th>\n",
       "      <td>2018-10-05</td>\n",
       "      <td>west ham</td>\n",
       "      <td>man united</td>\n",
       "      <td>5.036953</td>\n",
       "      <td>5.043425</td>\n",
       "      <td>-0.099420</td>\n",
       "      <td>0.124575</td>\n",
       "      <td>-0.076116</td>\n",
       "      <td>0.072627</td>\n",
       "      <td>0.237859</td>\n",
       "      <td>-0.337279</td>\n",
       "      <td>0.286883</td>\n",
       "      <td>-0.162308</td>\n",
       "      <td>0</td>\n",
       "      <td>0</td>\n",
       "    </tr>\n",
       "    <tr>\n",
       "      <th>1</th>\n",
       "      <td>2018-10-05</td>\n",
       "      <td>charlton</td>\n",
       "      <td>shrewsbury</td>\n",
       "      <td>5.036953</td>\n",
       "      <td>5.036953</td>\n",
       "      <td>0.017124</td>\n",
       "      <td>0.055666</td>\n",
       "      <td>0.050735</td>\n",
       "      <td>0.020561</td>\n",
       "      <td>0.203544</td>\n",
       "      <td>-0.186420</td>\n",
       "      <td>0.223827</td>\n",
       "      <td>-0.168161</td>\n",
       "      <td>-0.00119304</td>\n",
       "      <td>0</td>\n",
       "    </tr>\n",
       "    <tr>\n",
       "      <th>2</th>\n",
       "      <td>2018-10-05</td>\n",
       "      <td>anderlecht</td>\n",
       "      <td>standard</td>\n",
       "      <td>5.342334</td>\n",
       "      <td>5.342334</td>\n",
       "      <td>0.050130</td>\n",
       "      <td>0.084477</td>\n",
       "      <td>0.129732</td>\n",
       "      <td>0.054210</td>\n",
       "      <td>0.321939</td>\n",
       "      <td>-0.271809</td>\n",
       "      <td>0.315053</td>\n",
       "      <td>-0.230576</td>\n",
       "      <td>0.183596</td>\n",
       "      <td>0</td>\n",
       "    </tr>\n",
       "    <tr>\n",
       "      <th>3</th>\n",
       "      <td>2018-10-05</td>\n",
       "      <td>charleroi</td>\n",
       "      <td>club brugge</td>\n",
       "      <td>5.342334</td>\n",
       "      <td>5.342334</td>\n",
       "      <td>0.065869</td>\n",
       "      <td>0.167265</td>\n",
       "      <td>0.087704</td>\n",
       "      <td>0.018246</td>\n",
       "      <td>0.251693</td>\n",
       "      <td>-0.185824</td>\n",
       "      <td>0.387769</td>\n",
       "      <td>-0.220505</td>\n",
       "      <td>0</td>\n",
       "      <td>0</td>\n",
       "    </tr>\n",
       "    <tr>\n",
       "      <th>4</th>\n",
       "      <td>2018-10-05</td>\n",
       "      <td>genk</td>\n",
       "      <td>gent</td>\n",
       "      <td>5.342334</td>\n",
       "      <td>5.342334</td>\n",
       "      <td>0.069101</td>\n",
       "      <td>0.176517</td>\n",
       "      <td>0.050364</td>\n",
       "      <td>0.071815</td>\n",
       "      <td>0.239016</td>\n",
       "      <td>-0.169915</td>\n",
       "      <td>0.305028</td>\n",
       "      <td>-0.128511</td>\n",
       "      <td>-0.187184</td>\n",
       "      <td>0</td>\n",
       "    </tr>\n",
       "  </tbody>\n",
       "</table>\n",
       "</div>"
      ],
      "text/plain": [
       "        Date    HomeTeam     AwayTeam  DaysSinceLastHTMatch  \\\n",
       "0 2018-10-05    west ham   man united              5.036953   \n",
       "1 2018-10-05    charlton   shrewsbury              5.036953   \n",
       "2 2018-10-05  anderlecht     standard              5.342334   \n",
       "3 2018-10-05   charleroi  club brugge              5.342334   \n",
       "4 2018-10-05        genk         gent              5.342334   \n",
       "\n",
       "   DaysSinceLastATMatch  HomeTeamForm  AwayTeamForm  HomeTeamHomeForm  \\\n",
       "0              5.043425     -0.099420      0.124575         -0.076116   \n",
       "1              5.036953      0.017124      0.055666          0.050735   \n",
       "2              5.342334      0.050130      0.084477          0.129732   \n",
       "3              5.342334      0.065869      0.167265          0.087704   \n",
       "4              5.342334      0.069101      0.176517          0.050364   \n",
       "\n",
       "   AwayTeamAwayForm  HomeTeamOffense  HomeTeamDefense  AwayTeamOffense  \\\n",
       "0          0.072627         0.237859        -0.337279         0.286883   \n",
       "1          0.020561         0.203544        -0.186420         0.223827   \n",
       "2          0.054210         0.321939        -0.271809         0.315053   \n",
       "3          0.018246         0.251693        -0.185824         0.387769   \n",
       "4          0.071815         0.239016        -0.169915         0.305028   \n",
       "\n",
       "   AwayTeamDefense LastInterTeamGame Result  \n",
       "0        -0.162308                 0      0  \n",
       "1        -0.168161       -0.00119304      0  \n",
       "2        -0.230576          0.183596      0  \n",
       "3        -0.220505                 0      0  \n",
       "4        -0.128511         -0.187184      0  "
      ]
     },
     "execution_count": 22,
     "metadata": {},
     "output_type": "execute_result"
    }
   ],
   "source": [
    "training_data.head()"
   ]
  },
  {
   "cell_type": "code",
   "execution_count": 23,
   "metadata": {
    "scrolled": false
   },
   "outputs": [
    {
     "name": "stdout",
     "output_type": "stream",
     "text": [
      "10. May\n",
      "charlton vs shrewsbury:\n",
      "HOME if odds above: 2.0\n",
      "\n",
      "10. May\n",
      "anderlecht vs standard:\n",
      "HOME if odds above: 2.0\n",
      "\n",
      "10. May\n",
      "charleroi vs club brugge:\n",
      "HOME if odds above: 2.0\n",
      "\n",
      "11. May\n",
      "derby vs fulham:\n",
      "HOME if odds above: 2.0\n",
      "\n",
      "11. May\n",
      "livingston vs dundee united:\n",
      "HOME if odds above: 2.0\n",
      "\n",
      "11. May\n",
      "chateauroux vs brest:\n",
      "HOME if odds above: 2.0\n",
      "\n",
      "11. May\n",
      "clermont vs paris fc:\n",
      "HOME if odds above: 2.0\n",
      "\n",
      "11. May\n",
      "ajaccio vs valenciennes:\n",
      "HOME if odds above: 2.0\n",
      "\n",
      "11. May\n",
      "le havre vs tours:\n",
      "HOME if odds above: 2.0\n",
      "\n",
      "11. May\n",
      "lens vs auxerre:\n",
      "HOME if odds above: 2.0\n",
      "\n",
      "11. May\n",
      "nancy vs orleans:\n",
      "HOME if odds above: 2.0\n",
      "\n",
      "11. May\n",
      "reims vs nimes:\n",
      "HOME if odds above: 2.0\n",
      "\n",
      "11. May\n",
      "aves vs aves:\n",
      "HOME if odds above: 2.0\n",
      "\n",
      "12. May\n",
      "middlesbrough vs aston villa:\n",
      "HOME if odds above: 2.0\n",
      "\n",
      "12. May\n",
      "lincoln vs exeter:\n",
      "HOME if odds above: 2.0\n",
      "\n",
      "12. May\n",
      "coventry vs notts county:\n",
      "HOME if odds above: 2.0\n",
      "\n",
      "12. May\n",
      "dundee vs partick:\n",
      "HOME if odds above: 2.0\n",
      "\n",
      "12. May\n",
      "motherwell vs hamilton:\n",
      "HOME if odds above: 2.0\n",
      "\n",
      "12. May\n",
      "st johnstone vs ross county:\n",
      "HOME if odds above: 2.0\n",
      "\n",
      "12. May\n",
      "peterhead vs stenhousemuir:\n",
      "HOME if odds above: 2.0\n",
      "\n",
      "12. May\n",
      "cowdenbeath vs rangers:\n",
      "AWAY if odds above: 1.5\n",
      "\n",
      "12. May\n",
      "tranmere vs boreham wood:\n",
      "HOME if odds above: 2.0\n",
      "\n",
      "12. May\n",
      "sociedad vs leganes:\n",
      "HOME if odds above: 2.0\n",
      "\n",
      "12. May\n",
      "alaves vs ath bilbao:\n",
      "HOME if odds above: 2.0\n",
      "\n",
      "12. May\n",
      "eibar vs las palmas:\n",
      "HOME if odds above: 2.0\n",
      "\n",
      "12. May\n",
      "getafe vs ath madrid:\n",
      "HOME if odds above: 2.0\n",
      "\n",
      "12. May\n",
      "girona vs valencia:\n",
      "HOME if odds above: 2.0\n",
      "\n",
      "12. May\n",
      "betis vs sevilla:\n",
      "HOME if odds above: 2.0\n",
      "\n",
      "12. May\n",
      "real madrid vs celta:\n",
      "HOME if odds above: 2.0\n",
      "\n",
      "12. May\n",
      "sp gijon vs barcelona b:\n",
      "HOME if odds above: 2.0\n",
      "\n",
      "12. May\n",
      "valladolid vs albacete:\n",
      "HOME if odds above: 2.0\n",
      "\n",
      "12. May\n",
      "osasuna vs oviedo:\n",
      "HOME if odds above: 2.0\n",
      "\n",
      "12. May\n",
      "reus deportiu vs tenerife:\n",
      "HOME if odds above: 2.0\n",
      "\n",
      "12. May\n",
      "bayern munich vs stuttgart:\n",
      "HOME if odds above: 2.0\n",
      "\n",
      "12. May\n",
      "freiburg vs augsburg:\n",
      "HOME if odds above: 2.0\n",
      "\n",
      "12. May\n",
      "hertha vs rb leipzig:\n",
      "HOME if odds above: 2.0\n",
      "\n",
      "12. May\n",
      "hoffenheim vs dortmund:\n",
      "HOME if odds above: 2.0\n",
      "\n",
      "12. May\n",
      "leverkusen vs hannover:\n",
      "HOME if odds above: 2.0\n",
      "\n",
      "12. May\n",
      "mainz vs werder bremen:\n",
      "HOME if odds above: 2.0\n",
      "\n",
      "12. May\n",
      "wolfsburg vs fc koln:\n",
      "HOME if odds above: 2.0\n",
      "\n",
      "12. May\n",
      "inter vs sassuolo:\n",
      "HOME if odds above: 2.0\n",
      "\n",
      "12. May\n",
      "brescia vs empoli:\n",
      "AWAY if odds above: 1.5\n",
      "\n",
      "12. May\n",
      "foggia vs salernitana:\n",
      "HOME if odds above: 2.0\n",
      "\n",
      "12. May\n",
      "palermo vs cesena:\n",
      "HOME if odds above: 2.0\n",
      "\n",
      "12. May\n",
      "parma vs bari:\n",
      "HOME if odds above: 2.0\n",
      "\n",
      "12. May\n",
      "perugia vs novara:\n",
      "HOME if odds above: 2.0\n",
      "\n",
      "12. May\n",
      "pescara vs ascoli:\n",
      "HOME if odds above: 2.0\n",
      "\n",
      "12. May\n",
      "pro vercelli vs ternana:\n",
      "HOME if odds above: 2.0\n",
      "\n",
      "12. May\n",
      "amiens vs metz:\n",
      "HOME if odds above: 2.0\n",
      "\n",
      "12. May\n",
      "angers vs nantes:\n",
      "HOME if odds above: 2.0\n",
      "\n",
      "12. May\n",
      "bordeaux vs toulouse:\n",
      "HOME if odds above: 2.0\n",
      "\n",
      "12. May\n",
      "lille vs dijon:\n",
      "HOME if odds above: 2.0\n",
      "\n",
      "12. May\n",
      "monaco vs st etienne:\n",
      "HOME if odds above: 2.0\n",
      "\n",
      "12. May\n",
      "montpellier vs troyes:\n",
      "HOME if odds above: 2.0\n",
      "\n",
      "12. May\n",
      "nice vs caen:\n",
      "HOME if odds above: 2.0\n",
      "\n",
      "12. May\n",
      "paris sg vs rennes:\n",
      "HOME if odds above: 2.0\n",
      "\n",
      "12. May\n",
      "strasbourg vs bourg peronnas:\n",
      "HOME if odds above: 2.0\n",
      "\n",
      "12. May\n",
      "guimaraes vs porto:\n",
      "AWAY if odds above: 1.5\n",
      "\n",
      "12. May\n",
      "boavista vs belenenses:\n",
      "HOME if odds above: 2.0\n",
      "\n",
      "12. May\n",
      "kasimpasa vs genclerbirligi:\n",
      "HOME if odds above: 2.0\n",
      "\n",
      "12. May\n",
      "galatasaray vs yeni malatyaspor:\n",
      "HOME if odds above: 2.0\n",
      "\n"
     ]
    },
    {
     "ename": "IndexError",
     "evalue": "list index out of range",
     "output_type": "error",
     "traceback": [
      "\u001b[1;31m---------------------------------------------------------------------------\u001b[0m",
      "\u001b[1;31mIndexError\u001b[0m                                Traceback (most recent call last)",
      "\u001b[1;32m<ipython-input-23-c00def9af588>\u001b[0m in \u001b[0;36m<module>\u001b[1;34m()\u001b[0m\n\u001b[0;32m      9\u001b[0m     \u001b[0mdate\u001b[0m \u001b[1;33m=\u001b[0m \u001b[0mtraining_data\u001b[0m\u001b[1;33m[\u001b[0m\u001b[1;34m'Date'\u001b[0m\u001b[1;33m]\u001b[0m\u001b[1;33m.\u001b[0m\u001b[0miloc\u001b[0m\u001b[1;33m[\u001b[0m\u001b[0mi\u001b[0m\u001b[1;33m]\u001b[0m\u001b[1;33m\u001b[0m\u001b[0m\n\u001b[0;32m     10\u001b[0m     \u001b[1;32mif\u001b[0m \u001b[0mpred\u001b[0m\u001b[1;33m[\u001b[0m\u001b[0mi\u001b[0m\u001b[1;33m]\u001b[0m \u001b[1;33m>\u001b[0m \u001b[0mhome_bet\u001b[0m\u001b[1;33m:\u001b[0m\u001b[1;33m\u001b[0m\u001b[0m\n\u001b[1;32m---> 11\u001b[1;33m         \u001b[0mprint\u001b[0m\u001b[1;33m(\u001b[0m\u001b[1;34m\"{}\\n{} vs {}:\"\u001b[0m\u001b[1;33m.\u001b[0m\u001b[0mformat\u001b[0m\u001b[1;33m(\u001b[0m\u001b[0mstr\u001b[0m\u001b[1;33m(\u001b[0m\u001b[0mdate\u001b[0m\u001b[1;33m.\u001b[0m\u001b[0mmonth\u001b[0m\u001b[1;33m)\u001b[0m \u001b[1;33m+\u001b[0m \u001b[1;34m\". \"\u001b[0m \u001b[1;33m+\u001b[0m \u001b[0mmonth_abbr\u001b[0m\u001b[1;33m[\u001b[0m\u001b[0mdate\u001b[0m\u001b[1;33m.\u001b[0m\u001b[0mday\u001b[0m\u001b[1;33m]\u001b[0m\u001b[1;33m,\u001b[0m\u001b[0mtraining_data\u001b[0m\u001b[1;33m[\u001b[0m\u001b[1;34m'HomeTeam'\u001b[0m\u001b[1;33m]\u001b[0m\u001b[1;33m.\u001b[0m\u001b[0miloc\u001b[0m\u001b[1;33m[\u001b[0m\u001b[0mi\u001b[0m\u001b[1;33m]\u001b[0m\u001b[1;33m,\u001b[0m\u001b[0mtraining_data\u001b[0m\u001b[1;33m[\u001b[0m\u001b[1;34m'AwayTeam'\u001b[0m\u001b[1;33m]\u001b[0m\u001b[1;33m.\u001b[0m\u001b[0miloc\u001b[0m\u001b[1;33m[\u001b[0m\u001b[0mi\u001b[0m\u001b[1;33m]\u001b[0m\u001b[1;33m)\u001b[0m\u001b[1;33m)\u001b[0m\u001b[1;33m\u001b[0m\u001b[0m\n\u001b[0m\u001b[0;32m     12\u001b[0m         \u001b[0mprint\u001b[0m\u001b[1;33m(\u001b[0m\u001b[1;34m\"HOME if odds above: {}\\n\"\u001b[0m\u001b[1;33m.\u001b[0m\u001b[0mformat\u001b[0m\u001b[1;33m(\u001b[0m\u001b[1;36m2.0\u001b[0m\u001b[1;33m)\u001b[0m\u001b[1;33m)\u001b[0m\u001b[1;33m\u001b[0m\u001b[0m\n\u001b[0;32m     13\u001b[0m         \u001b[0mrecs\u001b[0m\u001b[1;33m+=\u001b[0m\u001b[1;36m1\u001b[0m\u001b[1;33m\u001b[0m\u001b[0m\n",
      "\u001b[1;32m~\\Anaconda3\\lib\\calendar.py\u001b[0m in \u001b[0;36m__getitem__\u001b[1;34m(self, i)\u001b[0m\n\u001b[0;32m     57\u001b[0m \u001b[1;33m\u001b[0m\u001b[0m\n\u001b[0;32m     58\u001b[0m     \u001b[1;32mdef\u001b[0m \u001b[0m__getitem__\u001b[0m\u001b[1;33m(\u001b[0m\u001b[0mself\u001b[0m\u001b[1;33m,\u001b[0m \u001b[0mi\u001b[0m\u001b[1;33m)\u001b[0m\u001b[1;33m:\u001b[0m\u001b[1;33m\u001b[0m\u001b[0m\n\u001b[1;32m---> 59\u001b[1;33m         \u001b[0mfuncs\u001b[0m \u001b[1;33m=\u001b[0m \u001b[0mself\u001b[0m\u001b[1;33m.\u001b[0m\u001b[0m_months\u001b[0m\u001b[1;33m[\u001b[0m\u001b[0mi\u001b[0m\u001b[1;33m]\u001b[0m\u001b[1;33m\u001b[0m\u001b[0m\n\u001b[0m\u001b[0;32m     60\u001b[0m         \u001b[1;32mif\u001b[0m \u001b[0misinstance\u001b[0m\u001b[1;33m(\u001b[0m\u001b[0mi\u001b[0m\u001b[1;33m,\u001b[0m \u001b[0mslice\u001b[0m\u001b[1;33m)\u001b[0m\u001b[1;33m:\u001b[0m\u001b[1;33m\u001b[0m\u001b[0m\n\u001b[0;32m     61\u001b[0m             \u001b[1;32mreturn\u001b[0m \u001b[1;33m[\u001b[0m\u001b[0mf\u001b[0m\u001b[1;33m(\u001b[0m\u001b[0mself\u001b[0m\u001b[1;33m.\u001b[0m\u001b[0mformat\u001b[0m\u001b[1;33m)\u001b[0m \u001b[1;32mfor\u001b[0m \u001b[0mf\u001b[0m \u001b[1;32min\u001b[0m \u001b[0mfuncs\u001b[0m\u001b[1;33m]\u001b[0m\u001b[1;33m\u001b[0m\u001b[0m\n",
      "\u001b[1;31mIndexError\u001b[0m: list index out of range"
     ]
    }
   ],
   "source": [
    "from calendar import month_abbr\n",
    "\n",
    "threshold = 10\n",
    "home_bet = 10.5\n",
    "away_bet = -3\n",
    "recs = 0\n",
    "\n",
    "for i in range(len(pred)):\n",
    "    date = training_data['Date'].iloc[i]\n",
    "    if pred[i] > home_bet:\n",
    "        print(\"{}\\n{} vs {}:\".format(str(date.month) + \". \" + month_abbr[date.day],training_data['HomeTeam'].iloc[i],training_data['AwayTeam'].iloc[i]))\n",
    "        print(\"HOME if odds above: {}\\n\".format(2.0))\n",
    "        recs+=1\n",
    "    elif pred[i] < away_bet:\n",
    "        print(\"{}\\n{} vs {}:\".format(str(date.month) + \". \" + month_abbr[date.day],training_data['HomeTeam'].iloc[i],training_data['AwayTeam'].iloc[i]))\n",
    "        print(\"AWAY if odds above: {}\\n\".format(1.5))\n",
    "        recs+=1\n",
    "        \n",
    "print(\"Matches recommended: \", recs)"
   ]
  },
  {
   "cell_type": "markdown",
   "metadata": {},
   "source": [
    "# Remember:\n",
    "When using a confidence threshold of around 10, the model yields a return of around 3% in testing. Much higher or lower, and the return is practically zero. This could be due to an unwillingness from the bookmakers to realistic odds for dominant sides. Possibly because people overestimate the probability of an underdog win, and so find lower odds unrealistic and unappealing.<br><br>\n",
    "An optimal strategy with regards to risk remains to be discovered, but so far, low-risk strategies (batches of 30 or more matches) seem to be the best course. Constant bets also seem to be doing well, although this may not be statistically significant.\n",
    "\n",
    "### UPDATE:\n",
    "Taking the product of odds and score (negative in the away case), and thresholding at 21 for home games and 7 for away games yields more profit.<br>\n",
    "\n",
    "\n",
    "### UPDATE II:\n",
    "Examining contour plots, it appears that an even better strategy consists of using a home win certainty threshold of 10.5 and an away win certainty threshold of -3, as well as using home and away odd thresholds of 2 and 1.5 respectively (this relationship should be examined closer). This yields 10% in testing, but I may be pushing how far I can tailor the parameters to the test data. Additionally, batch sizes between 10 and 30 are preferable."
   ]
  },
  {
   "cell_type": "code",
   "execution_count": null,
   "metadata": {
    "collapsed": true
   },
   "outputs": [],
   "source": []
  },
  {
   "cell_type": "code",
   "execution_count": null,
   "metadata": {
    "collapsed": true
   },
   "outputs": [],
   "source": []
  }
 ],
 "metadata": {
  "kernelspec": {
   "display_name": "Python 3",
   "language": "python",
   "name": "python3"
  },
  "language_info": {
   "codemirror_mode": {
    "name": "ipython",
    "version": 3
   },
   "file_extension": ".py",
   "mimetype": "text/x-python",
   "name": "python",
   "nbconvert_exporter": "python",
   "pygments_lexer": "ipython3",
   "version": "3.6.3"
  }
 },
 "nbformat": 4,
 "nbformat_minor": 2
}
