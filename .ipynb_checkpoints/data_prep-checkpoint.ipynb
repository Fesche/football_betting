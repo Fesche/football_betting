{
 "cells": [
  {
   "cell_type": "code",
   "execution_count": 5,
   "metadata": {},
   "outputs": [],
   "source": [
    "import pandas as pd\n",
    "import numpy as np\n",
    "from matplotlib import pyplot as plt\n",
    "from tqdm import tqdm\n",
    "import os"
   ]
  },
  {
   "cell_type": "code",
   "execution_count": 2,
   "metadata": {},
   "outputs": [
    {
     "name": "stdout",
     "output_type": "stream",
     "text": [
      "Downloading  http://www.football-data.co.uk/mmz4281/1718/data.zip\n",
      "Downloading  http://www.football-data.co.uk/mmz4281/1617/data.zip\n",
      "Downloading  http://www.football-data.co.uk/mmz4281/1516/data.zip\n",
      "Downloading  http://www.football-data.co.uk/mmz4281/1415/data.zip\n",
      "Downloading  http://www.football-data.co.uk/mmz4281/1314/data.zip\n",
      "Downloading  http://www.football-data.co.uk/mmz4281/1213/data.zip\n",
      "Downloading  http://www.football-data.co.uk/mmz4281/1112/data.zip\n",
      "Downloading  http://www.football-data.co.uk/mmz4281/1011/data.zip\n",
      "Downloading  http://www.football-data.co.uk/mmz4281/0910/data.zip\n",
      "Downloading  http://www.football-data.co.uk/mmz4281/0809/data.zip\n",
      "Downloading  http://www.football-data.co.uk/mmz4281/0708/data.zip\n",
      "Downloading  http://www.football-data.co.uk/mmz4281/0607/data.zip\n",
      "Downloading  http://www.football-data.co.uk/mmz4281/0506/data.zip\n",
      "Downloading  http://www.football-data.co.uk/mmz4281/0405/data.zip\n",
      "Downloading  http://www.football-data.co.uk/mmz4281/0304/data.zip\n",
      "Downloading  http://www.football-data.co.uk/mmz4281/0203/data.zip\n",
      "Downloading  http://www.football-data.co.uk/mmz4281/0102/data.zip\n",
      "Downloading  http://www.football-data.co.uk/mmz4281/0001/data.zip\n",
      "Downloading  http://www.football-data.co.uk/mmz4281/9900/data.zip\n",
      "Downloading  http://www.football-data.co.uk/mmz4281/9899/data.zip\n",
      "Downloading  http://www.football-data.co.uk/mmz4281/9798/data.zip\n",
      "Downloading  http://www.football-data.co.uk/mmz4281/9697/data.zip\n",
      "Downloading  http://www.football-data.co.uk/mmz4281/9596/data.zip\n",
      "Downloading  http://www.football-data.co.uk/mmz4281/9495/data.zip\n",
      "Downloading  http://www.football-data.co.uk/mmz4281/9394/data.zip\n",
      "unzipping  ../../Football_Data/Zipstash\\data_0.zip\n",
      "unzipping  ../../Football_Data/Zipstash\\data_1.zip\n",
      "unzipping  ../../Football_Data/Zipstash\\data_10.zip\n",
      "unzipping  ../../Football_Data/Zipstash\\data_11.zip\n",
      "unzipping  ../../Football_Data/Zipstash\\data_12.zip\n",
      "unzipping  ../../Football_Data/Zipstash\\data_13.zip\n",
      "unzipping  ../../Football_Data/Zipstash\\data_14.zip\n",
      "unzipping  ../../Football_Data/Zipstash\\data_15.zip\n",
      "unzipping  ../../Football_Data/Zipstash\\data_16.zip\n",
      "unzipping  ../../Football_Data/Zipstash\\data_17.zip\n",
      "unzipping  ../../Football_Data/Zipstash\\data_18.zip\n",
      "unzipping  ../../Football_Data/Zipstash\\data_19.zip\n",
      "unzipping  ../../Football_Data/Zipstash\\data_2.zip\n",
      "unzipping  ../../Football_Data/Zipstash\\data_20.zip\n",
      "unzipping  ../../Football_Data/Zipstash\\data_21.zip\n",
      "unzipping  ../../Football_Data/Zipstash\\data_22.zip\n",
      "unzipping  ../../Football_Data/Zipstash\\data_23.zip\n",
      "unzipping  ../../Football_Data/Zipstash\\data_24.zip\n",
      "unzipping  ../../Football_Data/Zipstash\\data_3.zip\n",
      "unzipping  ../../Football_Data/Zipstash\\data_4.zip\n",
      "unzipping  ../../Football_Data/Zipstash\\data_5.zip\n",
      "unzipping  ../../Football_Data/Zipstash\\data_6.zip\n",
      "unzipping  ../../Football_Data/Zipstash\\data_7.zip\n",
      "unzipping  ../../Football_Data/Zipstash\\data_8.zip\n",
      "unzipping  ../../Football_Data/Zipstash\\data_9.zip\n"
     ]
    }
   ],
   "source": [
    "%run update_stash.py"
   ]
  },
  {
   "cell_type": "code",
   "execution_count": 6,
   "metadata": {},
   "outputs": [],
   "source": [
    "all_seasons = []\n",
    "for filename in os.listdir('C:/Users/bfesc/Documents/Football_Data/Stash/'):\n",
    "    #if filename[0] == 'B':\n",
    "    with open(\"C:/Users/bfesc/Documents/Football_Data/Stash/\" + filename) as file:\n",
    "        season = file.read().rstrip().split('\\n')\n",
    "        for i in range(len(season)):\n",
    "            season[i] = season[i].rstrip(',').split(',')\n",
    "        all_seasons.append(season)"
   ]
  },
  {
   "cell_type": "code",
   "execution_count": 7,
   "metadata": {
    "scrolled": true
   },
   "outputs": [],
   "source": [
    "smallest_season = np.argmin([len(season[0]) for season in all_seasons])\n",
    "columns = ['Div', 'Date', 'HomeTeam', 'AwayTeam', 'FTHG', 'FTAG', 'FTR']\n",
    "\n",
    "all_data = pd.DataFrame(columns=columns)\n",
    "for season in all_seasons:\n",
    "    if not np.in1d(columns, season[0]).all():\n",
    "        continue\n",
    "    if len(season[0]) != max([len(s) for s in season]):\n",
    "        for i in range(len(season)):\n",
    "            season[i] = season[i][:len(season[0])]\n",
    "    df = pd.DataFrame(season[1:])\n",
    "    df.columns = season[0]\n",
    "    all_data = all_data.append(df[columns])\n",
    "\n",
    "all_data['Date'] = pd.to_datetime(all_data['Date'], dayfirst=True)\n",
    "all_data.index = all_data['Date']\n",
    "all_data = all_data.drop(columns=['Date','Div'])\n",
    "for column in all_data.columns:\n",
    "    all_data = all_data[pd.notnull(all_data[column])]\n",
    "all_data = all_data[pd.notnull(all_data.index)]\n",
    "all_data = all_data.sort_index(ascending=False)\n",
    "all_data['FTR'].iloc[np.where(all_data['FTR'] == 'A')] = -1\n",
    "all_data['FTR'].iloc[np.where(all_data['FTR'] == 'D')] = 0\n",
    "all_data['FTR'].iloc[np.where(all_data['FTR'] == 'H')] = 1\n",
    "all_data['FTHG'] = all_data['FTHG'].astype(int)\n",
    "all_data['FTAG'] = all_data['FTAG'].astype(int)"
   ]
  },
  {
   "cell_type": "code",
   "execution_count": 8,
   "metadata": {
    "collapsed": true
   },
   "outputs": [],
   "source": [
    "def make_team_dicts(data):\n",
    "    all_teams = np.unique(np.append(data['HomeTeam'], data['AwayTeam']))\n",
    "    team_dict = {}\n",
    "    \n",
    "    for team in all_teams:\n",
    "        team_dict[team] = data.iloc[np.where(np.logical_or(data['HomeTeam'] == team, \n",
    "                                                      data['AwayTeam'] == team))].sort_index(ascending=False)\n",
    "        \n",
    "    return team_dict"
   ]
  },
  {
   "cell_type": "code",
   "execution_count": 9,
   "metadata": {},
   "outputs": [],
   "source": [
    "team_dict = make_team_dicts(all_data)"
   ]
  },
  {
   "cell_type": "code",
   "execution_count": 13,
   "metadata": {},
   "outputs": [
    {
     "data": {
      "text/html": [
       "<div>\n",
       "<style scoped>\n",
       "    .dataframe tbody tr th:only-of-type {\n",
       "        vertical-align: middle;\n",
       "    }\n",
       "\n",
       "    .dataframe tbody tr th {\n",
       "        vertical-align: top;\n",
       "    }\n",
       "\n",
       "    .dataframe thead th {\n",
       "        text-align: right;\n",
       "    }\n",
       "</style>\n",
       "<table border=\"1\" class=\"dataframe\">\n",
       "  <thead>\n",
       "    <tr style=\"text-align: right;\">\n",
       "      <th></th>\n",
       "      <th>HomeTeam</th>\n",
       "      <th>AwayTeam</th>\n",
       "      <th>FTHG</th>\n",
       "      <th>FTAG</th>\n",
       "      <th>FTR</th>\n",
       "    </tr>\n",
       "    <tr>\n",
       "      <th>Date</th>\n",
       "      <th></th>\n",
       "      <th></th>\n",
       "      <th></th>\n",
       "      <th></th>\n",
       "      <th></th>\n",
       "    </tr>\n",
       "  </thead>\n",
       "  <tbody>\n",
       "    <tr>\n",
       "      <th>2018-03-31</th>\n",
       "      <td>Bayern Munich</td>\n",
       "      <td>Dortmund</td>\n",
       "      <td>6</td>\n",
       "      <td>0</td>\n",
       "      <td>1</td>\n",
       "    </tr>\n",
       "    <tr>\n",
       "      <th>2018-03-18</th>\n",
       "      <td>Dortmund</td>\n",
       "      <td>Hannover</td>\n",
       "      <td>1</td>\n",
       "      <td>0</td>\n",
       "      <td>1</td>\n",
       "    </tr>\n",
       "    <tr>\n",
       "      <th>2018-03-11</th>\n",
       "      <td>Dortmund</td>\n",
       "      <td>Ein Frankfurt</td>\n",
       "      <td>3</td>\n",
       "      <td>2</td>\n",
       "      <td>1</td>\n",
       "    </tr>\n",
       "    <tr>\n",
       "      <th>2018-03-03</th>\n",
       "      <td>RB Leipzig</td>\n",
       "      <td>Dortmund</td>\n",
       "      <td>1</td>\n",
       "      <td>1</td>\n",
       "      <td>0</td>\n",
       "    </tr>\n",
       "    <tr>\n",
       "      <th>2018-02-26</th>\n",
       "      <td>Dortmund</td>\n",
       "      <td>Augsburg</td>\n",
       "      <td>1</td>\n",
       "      <td>1</td>\n",
       "      <td>0</td>\n",
       "    </tr>\n",
       "    <tr>\n",
       "      <th>2018-02-18</th>\n",
       "      <td>M'gladbach</td>\n",
       "      <td>Dortmund</td>\n",
       "      <td>0</td>\n",
       "      <td>1</td>\n",
       "      <td>-1</td>\n",
       "    </tr>\n",
       "    <tr>\n",
       "      <th>2018-02-10</th>\n",
       "      <td>Dortmund</td>\n",
       "      <td>Hamburg</td>\n",
       "      <td>2</td>\n",
       "      <td>0</td>\n",
       "      <td>1</td>\n",
       "    </tr>\n",
       "    <tr>\n",
       "      <th>2018-02-02</th>\n",
       "      <td>FC Koln</td>\n",
       "      <td>Dortmund</td>\n",
       "      <td>2</td>\n",
       "      <td>3</td>\n",
       "      <td>-1</td>\n",
       "    </tr>\n",
       "    <tr>\n",
       "      <th>2018-01-27</th>\n",
       "      <td>Dortmund</td>\n",
       "      <td>Freiburg</td>\n",
       "      <td>2</td>\n",
       "      <td>2</td>\n",
       "      <td>0</td>\n",
       "    </tr>\n",
       "    <tr>\n",
       "      <th>2018-01-19</th>\n",
       "      <td>Hertha</td>\n",
       "      <td>Dortmund</td>\n",
       "      <td>1</td>\n",
       "      <td>1</td>\n",
       "      <td>0</td>\n",
       "    </tr>\n",
       "    <tr>\n",
       "      <th>2018-01-14</th>\n",
       "      <td>Dortmund</td>\n",
       "      <td>Wolfsburg</td>\n",
       "      <td>0</td>\n",
       "      <td>0</td>\n",
       "      <td>0</td>\n",
       "    </tr>\n",
       "    <tr>\n",
       "      <th>2017-12-16</th>\n",
       "      <td>Dortmund</td>\n",
       "      <td>Hoffenheim</td>\n",
       "      <td>2</td>\n",
       "      <td>1</td>\n",
       "      <td>1</td>\n",
       "    </tr>\n",
       "    <tr>\n",
       "      <th>2017-12-12</th>\n",
       "      <td>Mainz</td>\n",
       "      <td>Dortmund</td>\n",
       "      <td>0</td>\n",
       "      <td>2</td>\n",
       "      <td>-1</td>\n",
       "    </tr>\n",
       "    <tr>\n",
       "      <th>2017-12-09</th>\n",
       "      <td>Dortmund</td>\n",
       "      <td>Werder Bremen</td>\n",
       "      <td>1</td>\n",
       "      <td>2</td>\n",
       "      <td>-1</td>\n",
       "    </tr>\n",
       "    <tr>\n",
       "      <th>2017-12-02</th>\n",
       "      <td>Leverkusen</td>\n",
       "      <td>Dortmund</td>\n",
       "      <td>1</td>\n",
       "      <td>1</td>\n",
       "      <td>0</td>\n",
       "    </tr>\n",
       "    <tr>\n",
       "      <th>2017-11-25</th>\n",
       "      <td>Dortmund</td>\n",
       "      <td>Schalke 04</td>\n",
       "      <td>4</td>\n",
       "      <td>4</td>\n",
       "      <td>0</td>\n",
       "    </tr>\n",
       "    <tr>\n",
       "      <th>2017-11-17</th>\n",
       "      <td>Stuttgart</td>\n",
       "      <td>Dortmund</td>\n",
       "      <td>2</td>\n",
       "      <td>1</td>\n",
       "      <td>1</td>\n",
       "    </tr>\n",
       "    <tr>\n",
       "      <th>2017-11-04</th>\n",
       "      <td>Dortmund</td>\n",
       "      <td>Bayern Munich</td>\n",
       "      <td>1</td>\n",
       "      <td>3</td>\n",
       "      <td>-1</td>\n",
       "    </tr>\n",
       "    <tr>\n",
       "      <th>2017-10-28</th>\n",
       "      <td>Hannover</td>\n",
       "      <td>Dortmund</td>\n",
       "      <td>4</td>\n",
       "      <td>2</td>\n",
       "      <td>1</td>\n",
       "    </tr>\n",
       "    <tr>\n",
       "      <th>2017-10-21</th>\n",
       "      <td>Ein Frankfurt</td>\n",
       "      <td>Dortmund</td>\n",
       "      <td>2</td>\n",
       "      <td>2</td>\n",
       "      <td>0</td>\n",
       "    </tr>\n",
       "    <tr>\n",
       "      <th>2017-10-14</th>\n",
       "      <td>Dortmund</td>\n",
       "      <td>RB Leipzig</td>\n",
       "      <td>2</td>\n",
       "      <td>3</td>\n",
       "      <td>-1</td>\n",
       "    </tr>\n",
       "    <tr>\n",
       "      <th>2017-09-30</th>\n",
       "      <td>Augsburg</td>\n",
       "      <td>Dortmund</td>\n",
       "      <td>1</td>\n",
       "      <td>2</td>\n",
       "      <td>-1</td>\n",
       "    </tr>\n",
       "    <tr>\n",
       "      <th>2017-09-23</th>\n",
       "      <td>Dortmund</td>\n",
       "      <td>M'gladbach</td>\n",
       "      <td>6</td>\n",
       "      <td>1</td>\n",
       "      <td>1</td>\n",
       "    </tr>\n",
       "    <tr>\n",
       "      <th>2017-09-20</th>\n",
       "      <td>Hamburg</td>\n",
       "      <td>Dortmund</td>\n",
       "      <td>0</td>\n",
       "      <td>3</td>\n",
       "      <td>-1</td>\n",
       "    </tr>\n",
       "    <tr>\n",
       "      <th>2017-09-17</th>\n",
       "      <td>Dortmund</td>\n",
       "      <td>FC Koln</td>\n",
       "      <td>5</td>\n",
       "      <td>0</td>\n",
       "      <td>1</td>\n",
       "    </tr>\n",
       "    <tr>\n",
       "      <th>2017-09-09</th>\n",
       "      <td>Freiburg</td>\n",
       "      <td>Dortmund</td>\n",
       "      <td>0</td>\n",
       "      <td>0</td>\n",
       "      <td>0</td>\n",
       "    </tr>\n",
       "    <tr>\n",
       "      <th>2017-08-26</th>\n",
       "      <td>Dortmund</td>\n",
       "      <td>Hertha</td>\n",
       "      <td>2</td>\n",
       "      <td>0</td>\n",
       "      <td>1</td>\n",
       "    </tr>\n",
       "    <tr>\n",
       "      <th>2017-08-19</th>\n",
       "      <td>Wolfsburg</td>\n",
       "      <td>Dortmund</td>\n",
       "      <td>0</td>\n",
       "      <td>3</td>\n",
       "      <td>-1</td>\n",
       "    </tr>\n",
       "    <tr>\n",
       "      <th>2017-05-20</th>\n",
       "      <td>Dortmund</td>\n",
       "      <td>Werder Bremen</td>\n",
       "      <td>4</td>\n",
       "      <td>3</td>\n",
       "      <td>1</td>\n",
       "    </tr>\n",
       "    <tr>\n",
       "      <th>2017-05-13</th>\n",
       "      <td>Augsburg</td>\n",
       "      <td>Dortmund</td>\n",
       "      <td>1</td>\n",
       "      <td>1</td>\n",
       "      <td>0</td>\n",
       "    </tr>\n",
       "    <tr>\n",
       "      <th>2017-05-06</th>\n",
       "      <td>Dortmund</td>\n",
       "      <td>Hoffenheim</td>\n",
       "      <td>2</td>\n",
       "      <td>1</td>\n",
       "      <td>1</td>\n",
       "    </tr>\n",
       "    <tr>\n",
       "      <th>2017-04-29</th>\n",
       "      <td>Dortmund</td>\n",
       "      <td>FC Koln</td>\n",
       "      <td>0</td>\n",
       "      <td>0</td>\n",
       "      <td>0</td>\n",
       "    </tr>\n",
       "    <tr>\n",
       "      <th>2017-04-22</th>\n",
       "      <td>M'gladbach</td>\n",
       "      <td>Dortmund</td>\n",
       "      <td>2</td>\n",
       "      <td>3</td>\n",
       "      <td>-1</td>\n",
       "    </tr>\n",
       "    <tr>\n",
       "      <th>2017-04-15</th>\n",
       "      <td>Dortmund</td>\n",
       "      <td>Ein Frankfurt</td>\n",
       "      <td>3</td>\n",
       "      <td>1</td>\n",
       "      <td>1</td>\n",
       "    </tr>\n",
       "    <tr>\n",
       "      <th>2017-04-08</th>\n",
       "      <td>Bayern Munich</td>\n",
       "      <td>Dortmund</td>\n",
       "      <td>4</td>\n",
       "      <td>1</td>\n",
       "      <td>1</td>\n",
       "    </tr>\n",
       "    <tr>\n",
       "      <th>2017-04-04</th>\n",
       "      <td>Dortmund</td>\n",
       "      <td>Hamburg</td>\n",
       "      <td>3</td>\n",
       "      <td>0</td>\n",
       "      <td>1</td>\n",
       "    </tr>\n",
       "    <tr>\n",
       "      <th>2017-04-01</th>\n",
       "      <td>Schalke 04</td>\n",
       "      <td>Dortmund</td>\n",
       "      <td>1</td>\n",
       "      <td>1</td>\n",
       "      <td>0</td>\n",
       "    </tr>\n",
       "    <tr>\n",
       "      <th>2017-03-17</th>\n",
       "      <td>Dortmund</td>\n",
       "      <td>Ingolstadt</td>\n",
       "      <td>1</td>\n",
       "      <td>0</td>\n",
       "      <td>1</td>\n",
       "    </tr>\n",
       "    <tr>\n",
       "      <th>2017-03-11</th>\n",
       "      <td>Hertha</td>\n",
       "      <td>Dortmund</td>\n",
       "      <td>2</td>\n",
       "      <td>1</td>\n",
       "      <td>1</td>\n",
       "    </tr>\n",
       "    <tr>\n",
       "      <th>2017-03-04</th>\n",
       "      <td>Dortmund</td>\n",
       "      <td>Leverkusen</td>\n",
       "      <td>6</td>\n",
       "      <td>2</td>\n",
       "      <td>1</td>\n",
       "    </tr>\n",
       "  </tbody>\n",
       "</table>\n",
       "</div>"
      ],
      "text/plain": [
       "                 HomeTeam       AwayTeam  FTHG  FTAG  FTR\n",
       "Date                                                     \n",
       "2018-03-31  Bayern Munich       Dortmund     6     0    1\n",
       "2018-03-18       Dortmund       Hannover     1     0    1\n",
       "2018-03-11       Dortmund  Ein Frankfurt     3     2    1\n",
       "2018-03-03     RB Leipzig       Dortmund     1     1    0\n",
       "2018-02-26       Dortmund       Augsburg     1     1    0\n",
       "2018-02-18     M'gladbach       Dortmund     0     1   -1\n",
       "2018-02-10       Dortmund        Hamburg     2     0    1\n",
       "2018-02-02        FC Koln       Dortmund     2     3   -1\n",
       "2018-01-27       Dortmund       Freiburg     2     2    0\n",
       "2018-01-19         Hertha       Dortmund     1     1    0\n",
       "2018-01-14       Dortmund      Wolfsburg     0     0    0\n",
       "2017-12-16       Dortmund     Hoffenheim     2     1    1\n",
       "2017-12-12          Mainz       Dortmund     0     2   -1\n",
       "2017-12-09       Dortmund  Werder Bremen     1     2   -1\n",
       "2017-12-02     Leverkusen       Dortmund     1     1    0\n",
       "2017-11-25       Dortmund     Schalke 04     4     4    0\n",
       "2017-11-17      Stuttgart       Dortmund     2     1    1\n",
       "2017-11-04       Dortmund  Bayern Munich     1     3   -1\n",
       "2017-10-28       Hannover       Dortmund     4     2    1\n",
       "2017-10-21  Ein Frankfurt       Dortmund     2     2    0\n",
       "2017-10-14       Dortmund     RB Leipzig     2     3   -1\n",
       "2017-09-30       Augsburg       Dortmund     1     2   -1\n",
       "2017-09-23       Dortmund     M'gladbach     6     1    1\n",
       "2017-09-20        Hamburg       Dortmund     0     3   -1\n",
       "2017-09-17       Dortmund        FC Koln     5     0    1\n",
       "2017-09-09       Freiburg       Dortmund     0     0    0\n",
       "2017-08-26       Dortmund         Hertha     2     0    1\n",
       "2017-08-19      Wolfsburg       Dortmund     0     3   -1\n",
       "2017-05-20       Dortmund  Werder Bremen     4     3    1\n",
       "2017-05-13       Augsburg       Dortmund     1     1    0\n",
       "2017-05-06       Dortmund     Hoffenheim     2     1    1\n",
       "2017-04-29       Dortmund        FC Koln     0     0    0\n",
       "2017-04-22     M'gladbach       Dortmund     2     3   -1\n",
       "2017-04-15       Dortmund  Ein Frankfurt     3     1    1\n",
       "2017-04-08  Bayern Munich       Dortmund     4     1    1\n",
       "2017-04-04       Dortmund        Hamburg     3     0    1\n",
       "2017-04-01     Schalke 04       Dortmund     1     1    0\n",
       "2017-03-17       Dortmund     Ingolstadt     1     0    1\n",
       "2017-03-11         Hertha       Dortmund     2     1    1\n",
       "2017-03-04       Dortmund     Leverkusen     6     2    1"
      ]
     },
     "execution_count": 13,
     "metadata": {},
     "output_type": "execute_result"
    }
   ],
   "source": [
    "team_dict['Dortmund'].head(40)"
   ]
  },
  {
   "cell_type": "code",
   "execution_count": 157,
   "metadata": {},
   "outputs": [
    {
     "data": {
      "text/html": [
       "<div>\n",
       "<style scoped>\n",
       "    .dataframe tbody tr th:only-of-type {\n",
       "        vertical-align: middle;\n",
       "    }\n",
       "\n",
       "    .dataframe tbody tr th {\n",
       "        vertical-align: top;\n",
       "    }\n",
       "\n",
       "    .dataframe thead th {\n",
       "        text-align: right;\n",
       "    }\n",
       "</style>\n",
       "<table border=\"1\" class=\"dataframe\">\n",
       "  <thead>\n",
       "    <tr style=\"text-align: right;\">\n",
       "      <th></th>\n",
       "      <th>HomeTeam</th>\n",
       "      <th>AwayTeam</th>\n",
       "      <th>FTHG</th>\n",
       "      <th>FTAG</th>\n",
       "      <th>FTR</th>\n",
       "    </tr>\n",
       "    <tr>\n",
       "      <th>Date</th>\n",
       "      <th></th>\n",
       "      <th></th>\n",
       "      <th></th>\n",
       "      <th></th>\n",
       "      <th></th>\n",
       "    </tr>\n",
       "  </thead>\n",
       "  <tbody>\n",
       "    <tr>\n",
       "      <th>2018-03-28</th>\n",
       "      <td>Ascoli</td>\n",
       "      <td>Bari</td>\n",
       "      <td>1</td>\n",
       "      <td>0</td>\n",
       "      <td>1</td>\n",
       "    </tr>\n",
       "    <tr>\n",
       "      <th>2018-03-28</th>\n",
       "      <td>St Johnstone</td>\n",
       "      <td>Hamilton</td>\n",
       "      <td>1</td>\n",
       "      <td>0</td>\n",
       "      <td>1</td>\n",
       "    </tr>\n",
       "    <tr>\n",
       "      <th>2018-03-27</th>\n",
       "      <td>Hartlepool</td>\n",
       "      <td>Bromley</td>\n",
       "      <td>2</td>\n",
       "      <td>1</td>\n",
       "      <td>1</td>\n",
       "    </tr>\n",
       "    <tr>\n",
       "      <th>2018-03-27</th>\n",
       "      <td>Eastleigh</td>\n",
       "      <td>Dover Athletic</td>\n",
       "      <td>2</td>\n",
       "      <td>1</td>\n",
       "      <td>1</td>\n",
       "    </tr>\n",
       "    <tr>\n",
       "      <th>2018-03-27</th>\n",
       "      <td>Raith Rvs</td>\n",
       "      <td>East Fife</td>\n",
       "      <td>2</td>\n",
       "      <td>0</td>\n",
       "      <td>1</td>\n",
       "    </tr>\n",
       "  </tbody>\n",
       "</table>\n",
       "</div>"
      ],
      "text/plain": [
       "                HomeTeam        AwayTeam  FTHG  FTAG  FTR\n",
       "Date                                                     \n",
       "2018-03-28        Ascoli            Bari     1     0    1\n",
       "2018-03-28  St Johnstone        Hamilton     1     0    1\n",
       "2018-03-27    Hartlepool         Bromley     2     1    1\n",
       "2018-03-27     Eastleigh  Dover Athletic     2     1    1\n",
       "2018-03-27     Raith Rvs       East Fife     2     0    1"
      ]
     },
     "execution_count": 157,
     "metadata": {},
     "output_type": "execute_result"
    }
   ],
   "source": [
    "(all_data.index[9] - all_data.index[190]).days\n",
    "all_data.head()"
   ]
  },
  {
   "cell_type": "code",
   "execution_count": 3,
   "metadata": {
    "scrolled": true
   },
   "outputs": [],
   "source": [
    "def make_training_set(all_data, n_matches=None):\n",
    "\n",
    "\n",
    "    training_data = pd.DataFrame(columns=['DaysSinceLastHTMatch', 'DaysSinceLastATMatch', 'HomeTeamForm', 'AwayTeamForm',\n",
    "                                            'HomeTeamHomeForm','AwayTeamAwayForm', 'HomeTeamOffense', 'HomeTeamDefense',\n",
    "                                          'AwayTeamOffense', 'AwayTeamDefense', 'LastInterTeamGame', 'Result'])\n",
    "\n",
    "    if n_matches is None:\n",
    "        n_matches = len(all_data.index)\n",
    "\n",
    "    history = pd.Timedelta('90d')\n",
    "    year = pd.Timedelta('365d')\n",
    "\n",
    "    for i in tqdm(range(n_matches)):#\n",
    "        game = all_data.iloc[i]\n",
    "\n",
    "        home_team = game['HomeTeam']\n",
    "        away_team = game['AwayTeam']\n",
    "        game_date = game.name \n",
    "\n",
    "        ht_games = team_dict[home_team].loc[game_date - pd.Timedelta('1h'):game_date - year]\n",
    "        at_games = team_dict[away_team].loc[game_date - pd.Timedelta('1h'):game_date - year]\n",
    "\n",
    "    #     ht_games['FTHG'] = ht_games['FTHG'].values / ht_time_diff\n",
    "    #     ht_ag = ht_games['FTAG'].values / ht_time_diff\n",
    "\n",
    "    #     at_hg = at_games['FTHG'].values / at_time_diff\n",
    "    #     at_ag = at_games['FTAG'].values /at_time_diff\n",
    "\n",
    "        #result = game['FTR']\n",
    "        result = game['FTHG'] - game['FTAG']\n",
    "\n",
    "        ht_hgames = ht_games.iloc[np.where(ht_games['HomeTeam'] == home_team)]\n",
    "        ht_agames = ht_games.iloc[np.where(ht_games['AwayTeam'] == home_team)]\n",
    "\n",
    "        at_hgames = at_games.iloc[np.where(at_games['HomeTeam'] == away_team)]\n",
    "        at_agames = at_games.iloc[np.where(at_games['AwayTeam'] == away_team)]\n",
    "\n",
    "\n",
    "        if len(ht_hgames) > 1 and len(at_agames) > 1:\n",
    "\n",
    "            ht_time_diff = np.log((game_date - ht_games.index).days.values + 1)\n",
    "            at_time_diff = np.log((game_date - at_games.index).days.values + 1)\n",
    "\n",
    "            ht_h_td = ht_time_diff[np.where(ht_games['HomeTeam'] == home_team)]\n",
    "            ht_a_td = ht_time_diff[np.where(ht_games['AwayTeam'] == home_team)]\n",
    "            at_h_td = at_time_diff[np.where(at_games['HomeTeam'] == away_team)]\n",
    "            at_a_td = at_time_diff[np.where(at_games['AwayTeam'] == away_team)]\n",
    "\n",
    "\n",
    "            it_games = np.append(np.where(ht_hgames['AwayTeam'] == away_team)[0],\n",
    "                                 np.where(ht_agames['HomeTeam'] == away_team)[0])\n",
    "\n",
    "            litgr = 0\n",
    "            if len(it_games) > 0:\n",
    "                litgr += np.mean((ht_games['FTHG'].iloc[it_games].values - ht_games['FTAG'].iloc[it_games].values) / ht_time_diff[it_games])\n",
    "\n",
    "            dslhtm = ht_time_diff[0]\n",
    "            dslatm = at_time_diff[0]\n",
    "\n",
    "            ht_form = np.mean(np.append(((ht_hgames['FTHG'].values - ht_hgames['FTAG'].values) / ht_h_td),\n",
    "                              (ht_agames['FTAG'].values - ht_agames['FTHG'].values) / ht_a_td))\n",
    "            at_form = np.mean(np.append((at_hgames['FTHG'].values - at_hgames['FTAG'].values) / at_h_td,\n",
    "                              (at_agames['FTAG'].values - at_agames['FTHG'].values) / at_a_td))\n",
    "\n",
    "            ht_hform = np.mean((ht_hgames['FTHG'].values - ht_hgames['FTAG'].values) / ht_h_td)\n",
    "            at_aform = np.mean((at_agames['FTAG'].values - at_agames['FTHG'].values) / at_a_td)\n",
    "\n",
    "            hto = np.mean(np.append(ht_hgames['FTHG'].values / ht_h_td, ht_agames['FTAG'].values / ht_a_td))\n",
    "            htd = -np.mean(np.append(ht_hgames['FTAG'].values / ht_h_td, ht_agames['FTHG'].values /ht_a_td))\n",
    "\n",
    "            ato = np.mean(np.append(at_hgames['FTHG'] / at_h_td, at_agames['FTAG'].values / at_a_td))\n",
    "            atd = -np.mean(np.append(at_hgames['FTAG'].values / at_h_td, at_agames['FTHG'].values / at_a_td))\n",
    "\n",
    "\n",
    "            training_data = training_data.append(pd.DataFrame([[dslhtm, dslatm, ht_form, at_form, ht_hform, at_aform,\n",
    "                                                                hto, htd, ato, atd, litgr, result]], columns=training_data.columns))\n",
    "\n",
    "    return training_data\n",
    "    \n",
    "    "
   ]
  },
  {
   "cell_type": "code",
   "execution_count": 160,
   "metadata": {},
   "outputs": [
    {
     "data": {
      "text/plain": [
       "DaysSinceLastHTMatch    2.084279\n",
       "DaysSinceLastATMatch    2.083690\n",
       "HomeTeamForm           -0.001359\n",
       "AwayTeamForm            0.005038\n",
       "HomeTeamHomeForm        0.087245\n",
       "AwayTeamAwayForm       -0.083310\n",
       "HomeTeamOffense         0.287636\n",
       "HomeTeamDefense        -0.288994\n",
       "AwayTeamOffense         0.290782\n",
       "AwayTeamDefense        -0.285744\n",
       "LastInterTeamGame       0.071789\n",
       "Result                  0.391199\n",
       "dtype: float64"
      ]
     },
     "execution_count": 160,
     "metadata": {},
     "output_type": "execute_result"
    }
   ],
   "source": [
    "training_data = training_data.reset_index(drop=True)\n",
    "training_data.mean()"
   ]
  },
  {
   "cell_type": "code",
   "execution_count": 92,
   "metadata": {},
   "outputs": [
    {
     "data": {
      "text/plain": [
       "array([1, 2], dtype=int64)"
      ]
     },
     "execution_count": 92,
     "metadata": {},
     "output_type": "execute_result"
    }
   ],
   "source": [
    "np.where(np.array([2,3,4]) > 2)[0]"
   ]
  },
  {
   "cell_type": "code",
   "execution_count": 51,
   "metadata": {},
   "outputs": [
    {
     "name": "stderr",
     "output_type": "stream",
     "text": [
      "100%|██████████████████████████████████████████████████████████████████████████| 10000/10000 [00:01<00:00, 5564.58it/s]\n"
     ]
    },
    {
     "name": "stdout",
     "output_type": "stream",
     "text": [
      "-2499.5\n"
     ]
    },
    {
     "name": "stderr",
     "output_type": "stream",
     "text": [
      "100%|█████████████████████████████████████████████████████████████████████████| 10000/10000 [00:00<00:00, 35117.76it/s]\n"
     ]
    },
    {
     "name": "stdout",
     "output_type": "stream",
     "text": [
      "-2499.5\n"
     ]
    }
   ],
   "source": [
    "######### SPEED TEST ##########\n",
    "\n",
    "arr = pd.DataFrame(columns = ['val1', 'val2','val3','val4'])\n",
    "arr['val1'] = np.arange(5000)\n",
    "arr['val2'] = np.arange(5000)*2\n",
    "arr['val3'] = np.arange(5000)*3\n",
    "arr['val4'] = np.arange(5000)*4\n",
    "\n",
    "# mean of two differences\n",
    "# for i in tqdm(range(50000)):\n",
    "#     t = (np.mean(arr['val1'] - arr['val3']) + np.mean(arr['val2'] - arr['val4']))/2\n",
    "# print(t)\n",
    "\n",
    "# for i in tqdm(range(100)): # FASTEST FOR BIG ARRAYS\n",
    "#     t2 = (np.mean(arr['val1'].values - arr['val3'].values) + np.mean(arr['val2'].values - arr['val4'].values))/2\n",
    "# print(t2)\n",
    "\n",
    "# for i in tqdm(range(50000)):\n",
    "#     t3 = np.mean(np.append(arr['val1'] - arr['val3'], arr['val2'] - arr['val4']))\n",
    "# print(t3)\n",
    "\n",
    "# for i in tqdm(range(100)): # FASTEST FOR SMALL ARRAYS\n",
    "#     t4 = np.mean(np.append(arr['val1'].values - arr['val3'].values, arr['val2'].values - arr['val4'].values))\n",
    "# print(t4)\n",
    "\n",
    "\n",
    "################################################################3\n",
    "# mean of single difference\n",
    "for i in tqdm(range(10000)):  # FASTEST FOR BIG ARRAYS\n",
    "    t = np.mean(arr['val1'] - arr['val2'])\n",
    "print(t)\n",
    "\n",
    "for i in tqdm(range(10000)): # FASTEST FOR SMALL ARRAYS\n",
    "    t2 = np.mean(arr['val1'].values - arr['val2'].values)\n",
    "print(t2)\n"
   ]
  },
  {
   "cell_type": "code",
   "execution_count": 161,
   "metadata": {
    "collapsed": true
   },
   "outputs": [],
   "source": [
    "training_data.to_csv('C:/Users/bfesc/Documents/Projects/Football_betting/prepared_data.csv')"
   ]
  },
  {
   "cell_type": "code",
   "execution_count": 142,
   "metadata": {},
   "outputs": [],
   "source": [
    "from sklearn.linear_model import LinearRegression\n",
    "from keras.layers import Dense\n",
    "from keras.models import Sequential\n",
    "from sklearn.preprocessing import normalize"
   ]
  },
  {
   "cell_type": "code",
   "execution_count": 134,
   "metadata": {},
   "outputs": [],
   "source": [
    "import tensorflow as tf\n",
    "from keras.backend.tensorflow_backend import set_session\n",
    "config = tf.ConfigProto()\n",
    "config.gpu_options.per_process_gpu_memory_fraction = 0.9\n",
    "set_session(tf.Session(config=config))"
   ]
  },
  {
   "cell_type": "code",
   "execution_count": 169,
   "metadata": {},
   "outputs": [
    {
     "data": {
      "text/plain": [
       "array([ -1.35071568e+01,   2.71849314e+00,   4.04329155e+11,\n",
       "        -1.11789854e+13,   3.62875787e+01,  -3.24451864e+01,\n",
       "        -9.81946671e+11,  -9.90002806e+11,   2.75739293e+13,\n",
       "         2.71102546e+13,  -2.92355555e-01])"
      ]
     },
     "execution_count": 169,
     "metadata": {},
     "output_type": "execute_result"
    }
   ],
   "source": [
    "lr = LinearRegression()\n",
    "N = len(training_data.index)\n",
    "\n",
    "train = training_data.iloc[int(N*0.2):]\n",
    "test = training_data.iloc[:int(N*0.2)]\n",
    "\n",
    "active_params = ['DaysSinceLastHTMatch', 'DaysSinceLastATMatch', 'HomeTeamForm', 'AwayTeamForm',\n",
    "                                        'HomeTeamHomeForm','AwayTeamAwayForm','HomeTeamOffense', 'HomeTeamDefense',\n",
    "                                       'AwayTeamOffense', 'AwayTeamDefense', 'LastInterTeamGame']\n",
    "\n",
    "X_train = normalize(train[active_params], axis=0)\n",
    "X_test = normalize(test[active_params], axis=0)\n",
    "\n",
    "y_train = train['Result']\n",
    "y_test = test['Result']\n",
    "\n",
    "lr = lr.fit(X_train,y_train)\n",
    "lr.coef_"
   ]
  },
  {
   "cell_type": "code",
   "execution_count": 170,
   "metadata": {
    "scrolled": true
   },
   "outputs": [],
   "source": [
    "history = []\n",
    "for n_hidden in range(60,61):\n",
    "    nn = Sequential()\n",
    "\n",
    "    layer1 = Dense(n_hidden, input_shape=(X_train.shape[1],), activation='relu')\n",
    "    layer2 = Dense(int(n_hidden/2), activation='relu')\n",
    "    layer3 = Dense(1, activation='linear')\n",
    "\n",
    "    nn.add(layer1)\n",
    "    nn.add(layer2)\n",
    "    nn.add(layer3)\n",
    "    \n",
    "    nn.compile(optimizer='adagrad',\n",
    "              loss='mean_squared_error',\n",
    "              metrics=['mae'])\n",
    "    \n",
    "    hist = nn.fit(X_train,y_train, epochs=2, verbose=False, validation_split=0)\n",
    "    history.append(hist.history['mean_absolute_error'])"
   ]
  },
  {
   "cell_type": "code",
   "execution_count": 171,
   "metadata": {},
   "outputs": [],
   "source": [
    "pred_nn = nn.predict(X_test)"
   ]
  },
  {
   "cell_type": "code",
   "execution_count": 181,
   "metadata": {},
   "outputs": [
    {
     "data": {
      "text/plain": [
       "0.48105559707928475"
      ]
     },
     "execution_count": 181,
     "metadata": {},
     "output_type": "execute_result"
    }
   ],
   "source": [
    "threshold = 0.0\n",
    "\n",
    "correct = 0\n",
    "for i in range(len(y_test)):\n",
    "    if (y_test.iloc[i] > 0 and pred_nn[i] > threshold) or (y_test.iloc[i] < 0 and pred_nn[i] < -threshold) or (y_test.iloc[i] == 0 and pred_nn[i] > -threshold and pred_nn[i] < threshold):\n",
    "        correct+=1\n",
    "\n",
    "correct/len(y_test)"
   ]
  },
  {
   "cell_type": "code",
   "execution_count": 186,
   "metadata": {},
   "outputs": [],
   "source": [
    "nn.save('football_model.h5')"
   ]
  },
  {
   "cell_type": "code",
   "execution_count": 448,
   "metadata": {},
   "outputs": [],
   "source": [
    "# history = nn.fit(X_train,y_train, epochs=1, verbose=False, validation_split=0.2)"
   ]
  },
  {
   "cell_type": "code",
   "execution_count": 180,
   "metadata": {},
   "outputs": [
    {
     "data": {
      "text/plain": [
       "[1.2759325891095341, 1.2477625981631848]"
      ]
     },
     "execution_count": 180,
     "metadata": {},
     "output_type": "execute_result"
    }
   ],
   "source": [
    "# history[0].history['mean_absolute_error']\n",
    "history[0]"
   ]
  },
  {
   "cell_type": "code",
   "execution_count": 456,
   "metadata": {},
   "outputs": [
    {
     "data": {
      "text/plain": [
       "45"
      ]
     },
     "execution_count": 456,
     "metadata": {},
     "output_type": "execute_result"
    }
   ],
   "source": [
    "# min with 7 columns: approx: 0.74 at 68 nodes\n",
    "test_min = 10+np.argmin(history)*5\n",
    "test_min"
   ]
  },
  {
   "cell_type": "code",
   "execution_count": 177,
   "metadata": {
    "collapsed": true
   },
   "outputs": [],
   "source": [
    "from sklearn.ensemble import RandomForestClassifier\n",
    "from sklearn.ensemble import RandomForestRegressor"
   ]
  },
  {
   "cell_type": "code",
   "execution_count": 179,
   "metadata": {},
   "outputs": [
    {
     "name": "stdout",
     "output_type": "stream",
     "text": [
      "(139145, 2) (139146,)\n"
     ]
    }
   ],
   "source": [
    "cl = np.zeros((N,2))\n",
    "y = np.append(y_train,y_test)\n",
    "for i in range(N):\n",
    "    if y[i] == -1:\n",
    "        cl[i][0] += 1\n",
    "    if y[i] == 1:\n",
    "        cl[i][1] += 1\n",
    "\n",
    "cl_train = cl[:int(N*0.80)]\n",
    "cl_test = cl[int(N*0.80):]\n",
    "print(np.shape(cl_train),np.shape(y_train)) "
   ]
  },
  {
   "cell_type": "code",
   "execution_count": 228,
   "metadata": {},
   "outputs": [],
   "source": [
    "atts = []\n",
    "for season in all_seasons:\n",
    "    if int(season[1][1][-2:]) >= 17:\n",
    "        atts.extend(season[0])\n",
    "    \n",
    "unq_atts = np.unique(atts)\n",
    "z = np.zeros(len(unq_atts))\n",
    "\n",
    "att_counts = dict(zip(unq_atts, z))\n",
    "\n",
    "for att in atts:\n",
    "    att_counts[att] += 1"
   ]
  },
  {
   "cell_type": "code",
   "execution_count": 246,
   "metadata": {},
   "outputs": [
    {
     "data": {
      "image/png": "[encoded data removed]",
      "text/plain": [
       "<matplotlib.figure.Figure at 0x195b4cd1c18>"
      ]
     },
     "metadata": {},
     "output_type": "display_data"
    }
   ],
   "source": [
    "fig, ax = plt.subplots(figsize=(20, 10))\n",
    "\n",
    "ax.bar(range(len(att_counts)), np.sort(list(att_counts.values())), align='center')\n",
    "plt.xticks(range(len(att_counts)), list(att_counts.keys()), rotation = 60)\n",
    "plt.show()\n"
   ]
  },
  {
   "cell_type": "code",
   "execution_count": null,
   "metadata": {
    "collapsed": true
   },
   "outputs": [],
   "source": []
  }
 ],
 "metadata": {
  "kernelspec": {
   "display_name": "Python 3",
   "language": "python",
   "name": "python3"
  },
  "language_info": {
   "codemirror_mode": {
    "name": "ipython",
    "version": 3
   },
   "file_extension": ".py",
   "mimetype": "text/x-python",
   "name": "python",
   "nbconvert_exporter": "python",
   "pygments_lexer": "ipython3",
   "version": "3.6.3"
  }
 },
 "nbformat": 4,
 "nbformat_minor": 2
}
