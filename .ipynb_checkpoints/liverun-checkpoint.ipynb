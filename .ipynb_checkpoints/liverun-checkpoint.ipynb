{
 "cells": [
  {
   "cell_type": "code",
   "execution_count": 1,
   "metadata": {},
   "outputs": [
    {
     "name": "stderr",
     "output_type": "stream",
     "text": [
      "Using TensorFlow backend.\n"
     ]
    }
   ],
   "source": [
    "import pandas as pd\n",
    "import numpy as np\n",
    "from matplotlib import pyplot as plt\n",
    "from tqdm import tqdm\n",
    "import os\n",
    "from keras.models import load_model\n",
    "import urllib.request\n",
    "import re"
   ]
  },
  {
   "cell_type": "markdown",
   "metadata": {},
   "source": [
    "## Find odds for 7 days at a time."
   ]
  },
  {
   "cell_type": "code",
   "execution_count": 2,
   "metadata": {},
   "outputs": [],
   "source": [
    "import gzip\n",
    "import urllib.request\n",
    "\n",
    "url_string2 = None\n",
    "with urllib.request.urlopen('http://www.soccerbase.com/matches/home.sd?type=2') as response:\n",
    "    gzipFile = gzip.GzipFile(fileobj=response)\n",
    "    url_string2 = gzipFile.read().decode(\"UTF-8\")\n",
    "    url_string2 = re.search('(?<=soccer.gamelist.Timekeeper.addGames\\({).*?(?=soccer.gamelist)', url_string2)[0]\n"
   ]
  },
  {
   "cell_type": "code",
   "execution_count": 3,
   "metadata": {},
   "outputs": [],
   "source": [
    "matches = re.finditer('(?<=\\=)(.*?)\\_V\\_(.*?)\\=(.*?)\\\"', url_string2)\n",
    "games = []\n",
    "for match in matches:\n",
    "    games.append([match[3],re.sub(\"_\", \" \", match[1]).lower(),re.sub(\"_\", \" \", match[2]).lower()])"
   ]
  },
  {
   "cell_type": "code",
   "execution_count": 31,
   "metadata": {
    "collapsed": true
   },
   "outputs": [],
   "source": [
    "response = urllib.request.urlopen('https://www.supersport.com/football/fixtures')\n",
    "url_string = response.read()\n",
    "url_string = url_string.decode(\"UTF-8\")\n",
    "url_string = re.search('(?<=FIXTURES)(.|\\s)*', url_string)[0]"
   ]
  },
  {
   "cell_type": "code",
   "execution_count": 63,
   "metadata": {
    "collapsed": true
   },
   "outputs": [],
   "source": [
    "dates = re.finditer(\"(?<=Header\\\">)(.*?)(?=class=\\\"table)\", url_string)\n",
    "\n",
    "for day in dates:\n",
    "    \n",
    "    date = re.search('.*?(?=</td>)',day[0])[0]\n",
    "    matches = re.finditer(\"(?<=>)(..:..)(.*?)(?=</td><td class)\",day[0])\n",
    "    \n",
    "    for match in matches:\n",
    "        time_of_match = match[0][:5]\n",
    "        teams_re = re.finditer(\"(?<=st\\'>)(.*?)(?=</td>)\", match[0])\n",
    "        game = [date]\n",
    "        for team in teams_re:\n",
    "            \n",
    "            game.append(team[0].lower())\n",
    "        games.append(game)"
   ]
  },
  {
   "cell_type": "code",
   "execution_count": 94,
   "metadata": {},
   "outputs": [
    {
     "name": "stdout",
     "output_type": "stream",
     "text": [
      "Downloading  http://www.football-data.co.uk/mmz4281/1718/data.zip\n",
      "Downloading  http://www.football-data.co.uk/mmz4281/1617/data.zip\n",
      "Downloading  http://www.football-data.co.uk/mmz4281/1516/data.zip\n",
      "Downloading  http://www.football-data.co.uk/mmz4281/1415/data.zip\n",
      "Downloading  http://www.football-data.co.uk/mmz4281/1314/data.zip\n",
      "Downloading  http://www.football-data.co.uk/mmz4281/1213/data.zip\n",
      "Downloading  http://www.football-data.co.uk/mmz4281/1112/data.zip\n",
      "Downloading  http://www.football-data.co.uk/mmz4281/1011/data.zip\n",
      "Downloading  http://www.football-data.co.uk/mmz4281/0910/data.zip\n",
      "Downloading  http://www.football-data.co.uk/mmz4281/0809/data.zip\n",
      "Downloading  http://www.football-data.co.uk/mmz4281/0708/data.zip\n",
      "Downloading  http://www.football-data.co.uk/mmz4281/0607/data.zip\n",
      "Downloading  http://www.football-data.co.uk/mmz4281/0506/data.zip\n",
      "Downloading  http://www.football-data.co.uk/mmz4281/0405/data.zip\n",
      "Downloading  http://www.football-data.co.uk/mmz4281/0304/data.zip\n",
      "Downloading  http://www.football-data.co.uk/mmz4281/0203/data.zip\n",
      "Downloading  http://www.football-data.co.uk/mmz4281/0102/data.zip\n",
      "Downloading  http://www.football-data.co.uk/mmz4281/0001/data.zip\n",
      "Downloading  http://www.football-data.co.uk/mmz4281/9900/data.zip\n",
      "Downloading  http://www.football-data.co.uk/mmz4281/9899/data.zip\n",
      "Downloading  http://www.football-data.co.uk/mmz4281/9798/data.zip\n",
      "Downloading  http://www.football-data.co.uk/mmz4281/9697/data.zip\n",
      "Downloading  http://www.football-data.co.uk/mmz4281/9596/data.zip\n",
      "Downloading  http://www.football-data.co.uk/mmz4281/9495/data.zip\n",
      "Downloading  http://www.football-data.co.uk/mmz4281/9394/data.zip\n",
      "unzipping  ../../Football_Data/Zipstash\\data_0.zip\n",
      "unzipping  ../../Football_Data/Zipstash\\data_1.zip\n",
      "unzipping  ../../Football_Data/Zipstash\\data_10.zip\n",
      "unzipping  ../../Football_Data/Zipstash\\data_11.zip\n",
      "unzipping  ../../Football_Data/Zipstash\\data_12.zip\n",
      "unzipping  ../../Football_Data/Zipstash\\data_13.zip\n",
      "unzipping  ../../Football_Data/Zipstash\\data_14.zip\n",
      "unzipping  ../../Football_Data/Zipstash\\data_15.zip\n",
      "unzipping  ../../Football_Data/Zipstash\\data_16.zip\n",
      "unzipping  ../../Football_Data/Zipstash\\data_17.zip\n",
      "unzipping  ../../Football_Data/Zipstash\\data_18.zip\n",
      "unzipping  ../../Football_Data/Zipstash\\data_19.zip\n",
      "unzipping  ../../Football_Data/Zipstash\\data_2.zip\n",
      "unzipping  ../../Football_Data/Zipstash\\data_20.zip\n",
      "unzipping  ../../Football_Data/Zipstash\\data_21.zip\n",
      "unzipping  ../../Football_Data/Zipstash\\data_22.zip\n",
      "unzipping  ../../Football_Data/Zipstash\\data_23.zip\n",
      "unzipping  ../../Football_Data/Zipstash\\data_24.zip\n",
      "unzipping  ../../Football_Data/Zipstash\\data_3.zip\n",
      "unzipping  ../../Football_Data/Zipstash\\data_4.zip\n",
      "unzipping  ../../Football_Data/Zipstash\\data_5.zip\n",
      "unzipping  ../../Football_Data/Zipstash\\data_6.zip\n",
      "unzipping  ../../Football_Data/Zipstash\\data_7.zip\n",
      "unzipping  ../../Football_Data/Zipstash\\data_8.zip\n",
      "unzipping  ../../Football_Data/Zipstash\\data_9.zip\n"
     ]
    }
   ],
   "source": [
    "%run update_stash.py"
   ]
  },
  {
   "cell_type": "code",
   "execution_count": 95,
   "metadata": {
    "collapsed": true
   },
   "outputs": [],
   "source": [
    "all_seasons = []\n",
    "for filename in os.listdir('C:/Users/bfesc/Documents/Football_Data/Stash/'):\n",
    "    #if filename[0] == 'B':\n",
    "    with open(\"C:/Users/bfesc/Documents/Football_Data/Stash/\" + filename) as file:\n",
    "        season = file.read().rstrip().split('\\n')\n",
    "        for i in range(len(season)):\n",
    "            season[i] = season[i].rstrip(',').split(',')\n",
    "            for j in range(len(season[i])):\n",
    "                season[i][j] = season[i][j].lower()\n",
    "        all_seasons.append(season)"
   ]
  },
  {
   "cell_type": "code",
   "execution_count": 96,
   "metadata": {},
   "outputs": [
    {
     "name": "stdout",
     "output_type": "stream",
     "text": [
      "(198256, 7)\n",
      "(178365, 5)\n"
     ]
    }
   ],
   "source": [
    "smallest_season = np.argmin([len(season[0]) for season in all_seasons])\n",
    "columns = ['div', 'date', 'hometeam', 'awayteam', 'fthg', 'ftag', 'ftr']\n",
    "\n",
    "all_data = pd.DataFrame(columns=columns)\n",
    "for season in all_seasons:\n",
    "    if not np.in1d(columns, season[0]).all():\n",
    "        continue\n",
    "    if len(season[0]) != max([len(s) for s in season]):\n",
    "        for i in range(len(season)):\n",
    "            season[i] = season[i][:len(season[0])]\n",
    "    df = pd.DataFrame(season[1:])\n",
    "    df.columns = season[0]\n",
    "    all_data = all_data.append(df[columns])\n",
    "\n",
    "all_data['date'] = pd.to_datetime(all_data['date'], dayfirst=True)\n",
    "print(all_data.shape)\n",
    "all_data.index = all_data['date']\n",
    "all_data = all_data.drop(columns=['date','div'])\n",
    "for column in all_data.columns:\n",
    "    all_data = all_data[pd.notnull(all_data[column])]\n",
    "all_data = all_data[pd.notnull(all_data.index)]\n",
    "all_data = all_data.iloc[np.where(all_data['fthg'] != \"\")]\n",
    "all_data = all_data.sort_index(ascending=False)\n",
    "all_data['ftr'].iloc[np.where(all_data['ftr'] == 'a')] = -1\n",
    "all_data['ftr'].iloc[np.where(all_data['ftr'] == 'd')] = 0\n",
    "all_data['ftr'].iloc[np.where(all_data['ftr'] == 'h')] = 1\n",
    "all_data['fthg'] = all_data['fthg'].astype(int)\n",
    "all_data['ftag'] = all_data['ftag'].astype(int)\n",
    "print(all_data.shape)"
   ]
  },
  {
   "cell_type": "code",
   "execution_count": 98,
   "metadata": {
    "collapsed": true
   },
   "outputs": [],
   "source": [
    "from difflib import SequenceMatcher\n",
    "\n",
    "def unknown_team(home_team, away_team, team_dict, unknown = \"away\"):\n",
    "\n",
    "    if unknown == \"away\":\n",
    "        team_scores = []\n",
    "        teams = team_dict[home_team]['awayteam'] #Away or HomeTeam doesnt really matter \n",
    "        \n",
    "        for team in teams:\n",
    "            team_scores.append(SequenceMatcher(None,team,away_team).ratio())\n",
    "        \n",
    "        team_scores = np.argsort(team_scores)\n",
    "        \n",
    "        away_team = teams[team_scores[-1]]\n",
    "    \n",
    "    else:\n",
    "        teams = team_dict[away_team]['hometeam']\n",
    "        team_scores = []\n",
    "            \n",
    "        for team in teams:\n",
    "            team_scores.append(SequenceMatcher(None,team,home_team).ratio())\n",
    "        \n",
    "        team_scores = np.argsort(team_scores)\n",
    "        \n",
    "        home_team = teams[team_scores[-1]]\n",
    "        \n",
    "        #if team_scores[-1] < 0.4\n",
    "        \n",
    "    return home_team, away_team\n"
   ]
  },
  {
   "cell_type": "code",
   "execution_count": 99,
   "metadata": {
    "collapsed": true
   },
   "outputs": [],
   "source": [
    "def make_team_dicts(data):\n",
    "    all_teams = np.unique(np.append(data['hometeam'].str.lower(), data['awayteam'].str.lower()))\n",
    "    team_dict = {}\n",
    "    \n",
    "    for team in all_teams:\n",
    "        team_dict[team] = data.iloc[np.where(np.logical_or(data['hometeam'] == team, \n",
    "                                                      data['awayteam'] == team))].sort_index(ascending=False)\n",
    "        \n",
    "    return team_dict"
   ]
  },
  {
   "cell_type": "code",
   "execution_count": 100,
   "metadata": {
    "collapsed": true
   },
   "outputs": [],
   "source": [
    "team_dict = make_team_dicts(all_data)"
   ]
  },
  {
   "cell_type": "code",
   "execution_count": 101,
   "metadata": {},
   "outputs": [
    {
     "data": {
      "text/plain": [
       "('dortmund', 'bayern munich')"
      ]
     },
     "execution_count": 101,
     "metadata": {},
     "output_type": "execute_result"
    }
   ],
   "source": [
    "# Sanity check\n",
    "unknown_team(\"dortmund\", \"bayern münchen\", team_dict)"
   ]
  },
  {
   "cell_type": "code",
   "execution_count": 102,
   "metadata": {
    "collapsed": true
   },
   "outputs": [],
   "source": [
    "def make_live_data(live_data, team_dict):\n",
    "\n",
    "\n",
    "    training_data = pd.DataFrame(columns=['Date','HomeTeam', 'AwayTeam', 'DaysSinceLastHTMatch', 'DaysSinceLastATMatch', 'HomeTeamForm', 'AwayTeamForm',\n",
    "                                            'HomeTeamHomeForm','AwayTeamAwayForm', 'HomeTeamOffense', 'HomeTeamDefense',\n",
    "                                          'AwayTeamOffense', 'AwayTeamDefense', 'LastInterTeamGame', 'Result'])\n",
    "\n",
    "\n",
    "    history = pd.Timedelta('90d')\n",
    "    year = pd.Timedelta('365d')\n",
    "    for i in tqdm(range(len(live_data))):#\n",
    "        game = live_data[i]\n",
    "        home_team = game[1]\n",
    "        away_team = game[2]\n",
    "        game_date = pd.to_datetime(game[0]) \n",
    "\n",
    "        if home_team not in team_dict.keys() and away_team not in team_dict.keys():\n",
    "            continue\n",
    "        elif home_team not in team_dict.keys():\n",
    "            home_team, away_team = unknown_team(home_team, away_team, team_dict, unknown=\"home\")\n",
    "        elif away_team not in team_dict.keys():\n",
    "            home_team, away_team = unknown_team(home_team, away_team, team_dict, unknown=\"away\")\n",
    "        \n",
    "        ht_games = team_dict[home_team].loc[game_date - pd.Timedelta('1h'):game_date - year]\n",
    "        at_games = team_dict[away_team].loc[game_date - pd.Timedelta('1h'):game_date - year]\n",
    "\n",
    "        #result = game['FTR']\n",
    "        result = 0\n",
    "\n",
    "        ht_hgames = ht_games.iloc[np.where(ht_games['hometeam'] == home_team)]\n",
    "        ht_agames = ht_games.iloc[np.where(ht_games['awayteam'] == home_team)]\n",
    "\n",
    "        at_hgames = at_games.iloc[np.where(at_games['hometeam'] == away_team)]\n",
    "        at_agames = at_games.iloc[np.where(at_games['awayteam'] == away_team)]\n",
    "\n",
    "\n",
    "        if len(ht_hgames) > 1 and len(at_agames) > 1:\n",
    "\n",
    "            ht_time_diff = np.log((game_date - ht_games.index).days.values + 1)\n",
    "            at_time_diff = np.log((game_date - at_games.index).days.values + 1)\n",
    "\n",
    "            ht_h_td = ht_time_diff[np.where(ht_games['hometeam'] == home_team)]\n",
    "            ht_a_td = ht_time_diff[np.where(ht_games['awayteam'] == home_team)]\n",
    "            at_h_td = at_time_diff[np.where(at_games['hometeam'] == away_team)]\n",
    "            at_a_td = at_time_diff[np.where(at_games['awayteam'] == away_team)]\n",
    "\n",
    "\n",
    "            it_games = np.append(np.where(ht_hgames['awayteam'] == away_team)[0],\n",
    "                                 np.where(ht_agames['hometeam'] == away_team)[0])\n",
    "\n",
    "            litgr = 0\n",
    "            if len(it_games) > 0:\n",
    "                litgr += np.mean((ht_games['fthg'].iloc[it_games].values - ht_games['ftag'].iloc[it_games].values) / ht_time_diff[it_games])\n",
    "\n",
    "            dslhtm = ht_time_diff[0]\n",
    "            dslatm = at_time_diff[0]\n",
    "\n",
    "            ht_form = np.mean(np.append(((ht_hgames['fthg'].values - ht_hgames['ftag'].values) / ht_h_td),\n",
    "                              (ht_agames['ftag'].values - ht_agames['fthg'].values) / ht_a_td))\n",
    "            at_form = np.mean(np.append((at_hgames['fthg'].values - at_hgames['ftag'].values) / at_h_td,\n",
    "                              (at_agames['ftag'].values - at_agames['fthg'].values) / at_a_td))\n",
    "\n",
    "            ht_hform = np.mean((ht_hgames['fthg'].values - ht_hgames['ftag'].values) / ht_h_td)\n",
    "            at_aform = np.mean((at_agames['ftag'].values - at_agames['fthg'].values) / at_a_td)\n",
    "\n",
    "            hto = np.mean(np.append(ht_hgames['fthg'].values / ht_h_td, ht_agames['ftag'].values / ht_a_td))\n",
    "            htd = -np.mean(np.append(ht_hgames['ftag'].values / ht_h_td, ht_agames['fthg'].values /ht_a_td))\n",
    "\n",
    "            ato = np.mean(np.append(at_hgames['fthg'] / at_h_td, at_agames['ftag'].values / at_a_td))\n",
    "            atd = -np.mean(np.append(at_hgames['ftag'].values / at_h_td, at_agames['fthg'].values / at_a_td))\n",
    "\n",
    "\n",
    "            training_data = training_data.append(pd.DataFrame([[game_date,home_team, away_team, dslhtm, dslatm, ht_form, at_form, ht_hform, at_aform,\n",
    "                                                                hto, htd, ato, atd, litgr, result]], columns=training_data.columns))\n",
    "\n",
    "    return training_data\n",
    "    \n",
    "    "
   ]
  },
  {
   "cell_type": "code",
   "execution_count": 103,
   "metadata": {},
   "outputs": [
    {
     "name": "stderr",
     "output_type": "stream",
     "text": [
      "100%|████████████████████████████████████████████████████████████████████████████████| 124/124 [00:01<00:00, 74.30it/s]\n"
     ]
    }
   ],
   "source": [
    "training_data = make_live_data(games,team_dict)"
   ]
  },
  {
   "cell_type": "code",
   "execution_count": 104,
   "metadata": {},
   "outputs": [
    {
     "data": {
      "text/plain": [
       "DaysSinceLastHTMatch    2.058816\n",
       "DaysSinceLastATMatch    2.038524\n",
       "HomeTeamForm            0.042205\n",
       "AwayTeamForm           -0.047191\n",
       "HomeTeamHomeForm        0.111509\n",
       "AwayTeamAwayForm       -0.115314\n",
       "HomeTeamOffense         0.317377\n",
       "HomeTeamDefense        -0.275172\n",
       "AwayTeamOffense         0.270566\n",
       "AwayTeamDefense        -0.317757\n",
       "LastInterTeamGame       0.205751\n",
       "dtype: float64"
      ]
     },
     "execution_count": 104,
     "metadata": {},
     "output_type": "execute_result"
    }
   ],
   "source": [
    "training_data = training_data.reset_index(drop=True)\n",
    "training_data.mean()"
   ]
  },
  {
   "cell_type": "code",
   "execution_count": 105,
   "metadata": {},
   "outputs": [
    {
     "data": {
      "text/plain": [
       "(50, 15)"
      ]
     },
     "execution_count": 105,
     "metadata": {},
     "output_type": "execute_result"
    }
   ],
   "source": [
    "training_data.shape"
   ]
  },
  {
   "cell_type": "code",
   "execution_count": 106,
   "metadata": {
    "collapsed": true
   },
   "outputs": [],
   "source": [
    "import tensorflow as tf\n",
    "\n",
    "X = training_data[['DaysSinceLastHTMatch', 'DaysSinceLastATMatch', 'HomeTeamForm', 'AwayTeamForm',\n",
    "                                            'HomeTeamHomeForm','AwayTeamAwayForm', 'HomeTeamOffense', 'HomeTeamDefense',\n",
    "                                          'AwayTeamOffense', 'AwayTeamDefense', 'LastInterTeamGame']]\n",
    "with tf.device('/cpu:0'):\n",
    "    model = load_model('football_model.h5')"
   ]
  },
  {
   "cell_type": "code",
   "execution_count": 107,
   "metadata": {
    "collapsed": true
   },
   "outputs": [],
   "source": [
    "pred = None\n",
    "with tf.device('/cpu:0'):\n",
    "    pred = model.predict(X)"
   ]
  },
  {
   "cell_type": "code",
   "execution_count": 108,
   "metadata": {},
   "outputs": [
    {
     "data": {
      "text/html": [
       "<div>\n",
       "<style scoped>\n",
       "    .dataframe tbody tr th:only-of-type {\n",
       "        vertical-align: middle;\n",
       "    }\n",
       "\n",
       "    .dataframe tbody tr th {\n",
       "        vertical-align: top;\n",
       "    }\n",
       "\n",
       "    .dataframe thead th {\n",
       "        text-align: right;\n",
       "    }\n",
       "</style>\n",
       "<table border=\"1\" class=\"dataframe\">\n",
       "  <thead>\n",
       "    <tr style=\"text-align: right;\">\n",
       "      <th></th>\n",
       "      <th>Date</th>\n",
       "      <th>HomeTeam</th>\n",
       "      <th>AwayTeam</th>\n",
       "      <th>DaysSinceLastHTMatch</th>\n",
       "      <th>DaysSinceLastATMatch</th>\n",
       "      <th>HomeTeamForm</th>\n",
       "      <th>AwayTeamForm</th>\n",
       "      <th>HomeTeamHomeForm</th>\n",
       "      <th>AwayTeamAwayForm</th>\n",
       "      <th>HomeTeamOffense</th>\n",
       "      <th>HomeTeamDefense</th>\n",
       "      <th>AwayTeamOffense</th>\n",
       "      <th>AwayTeamDefense</th>\n",
       "      <th>LastInterTeamGame</th>\n",
       "      <th>Result</th>\n",
       "    </tr>\n",
       "  </thead>\n",
       "  <tbody>\n",
       "    <tr>\n",
       "      <th>0</th>\n",
       "      <td>2018-04-23</td>\n",
       "      <td>antwerp</td>\n",
       "      <td>lokeren</td>\n",
       "      <td>3.784190</td>\n",
       "      <td>3.784190</td>\n",
       "      <td>-0.023258</td>\n",
       "      <td>-0.113261</td>\n",
       "      <td>0.043624</td>\n",
       "      <td>-0.015922</td>\n",
       "      <td>0.254406</td>\n",
       "      <td>-0.277663</td>\n",
       "      <td>0.224399</td>\n",
       "      <td>-0.337660</td>\n",
       "      <td>-0.216830</td>\n",
       "      <td>0</td>\n",
       "    </tr>\n",
       "    <tr>\n",
       "      <th>1</th>\n",
       "      <td>2018-04-23</td>\n",
       "      <td>genoa</td>\n",
       "      <td>verona</td>\n",
       "      <td>1.791759</td>\n",
       "      <td>1.791759</td>\n",
       "      <td>-0.057863</td>\n",
       "      <td>-0.241739</td>\n",
       "      <td>-0.009385</td>\n",
       "      <td>-0.281086</td>\n",
       "      <td>0.186328</td>\n",
       "      <td>-0.244191</td>\n",
       "      <td>0.177827</td>\n",
       "      <td>-0.419566</td>\n",
       "      <td>-0.233827</td>\n",
       "      <td>0</td>\n",
       "    </tr>\n",
       "    <tr>\n",
       "      <th>2</th>\n",
       "      <td>2018-04-23</td>\n",
       "      <td>porto</td>\n",
       "      <td>setubal</td>\n",
       "      <td>2.197225</td>\n",
       "      <td>2.302585</td>\n",
       "      <td>0.365119</td>\n",
       "      <td>-0.115916</td>\n",
       "      <td>0.498517</td>\n",
       "      <td>-0.211561</td>\n",
       "      <td>0.494631</td>\n",
       "      <td>-0.129512</td>\n",
       "      <td>0.263053</td>\n",
       "      <td>-0.378969</td>\n",
       "      <td>1.197781</td>\n",
       "      <td>0</td>\n",
       "    </tr>\n",
       "    <tr>\n",
       "      <th>3</th>\n",
       "      <td>2018-04-23</td>\n",
       "      <td>ath bilbao</td>\n",
       "      <td>levante</td>\n",
       "      <td>1.791759</td>\n",
       "      <td>1.609438</td>\n",
       "      <td>-0.008210</td>\n",
       "      <td>-0.101828</td>\n",
       "      <td>0.051411</td>\n",
       "      <td>-0.215600</td>\n",
       "      <td>0.263280</td>\n",
       "      <td>-0.271490</td>\n",
       "      <td>0.207454</td>\n",
       "      <td>-0.309282</td>\n",
       "      <td>0.479112</td>\n",
       "      <td>0</td>\n",
       "    </tr>\n",
       "    <tr>\n",
       "      <th>4</th>\n",
       "      <td>2018-04-23</td>\n",
       "      <td>fenerbahce</td>\n",
       "      <td>antalyaspor</td>\n",
       "      <td>2.302585</td>\n",
       "      <td>2.197225</td>\n",
       "      <td>0.205356</td>\n",
       "      <td>-0.017329</td>\n",
       "      <td>0.187975</td>\n",
       "      <td>-0.132278</td>\n",
       "      <td>0.418121</td>\n",
       "      <td>-0.212765</td>\n",
       "      <td>0.300652</td>\n",
       "      <td>-0.317981</td>\n",
       "      <td>-0.032044</td>\n",
       "      <td>0</td>\n",
       "    </tr>\n",
       "  </tbody>\n",
       "</table>\n",
       "</div>"
      ],
      "text/plain": [
       "        Date    HomeTeam     AwayTeam  DaysSinceLastHTMatch  \\\n",
       "0 2018-04-23     antwerp      lokeren              3.784190   \n",
       "1 2018-04-23       genoa       verona              1.791759   \n",
       "2 2018-04-23       porto      setubal              2.197225   \n",
       "3 2018-04-23  ath bilbao      levante              1.791759   \n",
       "4 2018-04-23  fenerbahce  antalyaspor              2.302585   \n",
       "\n",
       "   DaysSinceLastATMatch  HomeTeamForm  AwayTeamForm  HomeTeamHomeForm  \\\n",
       "0              3.784190     -0.023258     -0.113261          0.043624   \n",
       "1              1.791759     -0.057863     -0.241739         -0.009385   \n",
       "2              2.302585      0.365119     -0.115916          0.498517   \n",
       "3              1.609438     -0.008210     -0.101828          0.051411   \n",
       "4              2.197225      0.205356     -0.017329          0.187975   \n",
       "\n",
       "   AwayTeamAwayForm  HomeTeamOffense  HomeTeamDefense  AwayTeamOffense  \\\n",
       "0         -0.015922         0.254406        -0.277663         0.224399   \n",
       "1         -0.281086         0.186328        -0.244191         0.177827   \n",
       "2         -0.211561         0.494631        -0.129512         0.263053   \n",
       "3         -0.215600         0.263280        -0.271490         0.207454   \n",
       "4         -0.132278         0.418121        -0.212765         0.300652   \n",
       "\n",
       "   AwayTeamDefense  LastInterTeamGame Result  \n",
       "0        -0.337660          -0.216830      0  \n",
       "1        -0.419566          -0.233827      0  \n",
       "2        -0.378969           1.197781      0  \n",
       "3        -0.309282           0.479112      0  \n",
       "4        -0.317981          -0.032044      0  "
      ]
     },
     "execution_count": 108,
     "metadata": {},
     "output_type": "execute_result"
    }
   ],
   "source": [
    "training_data.head()"
   ]
  },
  {
   "cell_type": "code",
   "execution_count": 109,
   "metadata": {},
   "outputs": [
    {
     "name": "stdout",
     "output_type": "stream",
     "text": [
      "2018-04-23 00:00:00\n",
      "antwerp vs lokeren:\n",
      "HOME if odds above: 2.0\n",
      "\n",
      "2018-04-23 00:00:00\n",
      "genoa vs verona:\n",
      "HOME if odds above: 2.0\n",
      "\n",
      "2018-04-23 00:00:00\n",
      "porto vs setubal:\n",
      "HOME if odds above: 2.0\n",
      "\n",
      "2018-04-23 00:00:00\n",
      "ath bilbao vs levante:\n",
      "HOME if odds above: 2.0\n",
      "\n",
      "2018-04-23 00:00:00\n",
      "fenerbahce vs antalyaspor:\n",
      "HOME if odds above: 2.0\n",
      "\n",
      "2018-04-23 00:00:00\n",
      "holstein kiel vs regensburg:\n",
      "HOME if odds above: 2.0\n",
      "\n",
      "2018-04-23 00:00:00\n",
      "genoa vs verona:\n",
      "HOME if odds above: 2.0\n",
      "\n",
      "2018-04-23 00:00:00\n",
      "porto vs setubal:\n",
      "HOME if odds above: 2.0\n",
      "\n",
      "2018-04-23 00:00:00\n",
      "ath bilbao vs levante:\n",
      "HOME if odds above: 2.0\n",
      "\n",
      "2018-04-24 00:00:00\n",
      "nott'm forest vs barnsley:\n",
      "HOME if odds above: 2.0\n",
      "\n",
      "2018-04-25 00:00:00\n",
      "barcelona vs real madrid:\n",
      "HOME if odds above: 2.0\n",
      "\n",
      "2018-04-26 00:00:00\n",
      "arsenal vs watford:\n",
      "HOME if odds above: 2.0\n",
      "\n",
      "2018-04-27 00:00:00\n",
      "hoffenheim vs hannover:\n",
      "HOME if odds above: 2.0\n",
      "\n",
      "2018-04-27 00:00:00\n",
      "fulham vs sunderland:\n",
      "HOME if odds above: 2.0\n",
      "\n",
      "2018-04-27 00:00:00\n",
      "guimaraes vs moreirense:\n",
      "HOME if odds above: 2.0\n",
      "\n",
      "2018-04-27 00:00:00\n",
      "levante vs sevilla:\n",
      "HOME if odds above: 2.0\n",
      "\n",
      "2018-04-28 00:00:00\n",
      "wolfsburg vs hamburg:\n",
      "HOME if odds above: 2.0\n",
      "\n",
      "2018-04-28 00:00:00\n",
      "schalke 04 vs m'gladbach:\n",
      "HOME if odds above: 2.0\n",
      "\n",
      "2018-04-28 00:00:00\n",
      "leverkusen vs stuttgart:\n",
      "HOME if odds above: 2.0\n",
      "\n",
      "2018-04-28 00:00:00\n",
      "aston villa vs derby:\n",
      "HOME if odds above: 2.0\n",
      "\n",
      "2018-04-28 00:00:00\n",
      "sheffield united vs leyton orient:\n",
      "HOME if odds above: 2.0\n",
      "\n",
      "2018-04-28 00:00:00\n",
      "monaco vs amiens:\n",
      "HOME if odds above: 2.0\n",
      "\n",
      "2018-04-28 00:00:00\n",
      "lille vs metz:\n",
      "HOME if odds above: 2.0\n",
      "\n",
      "2018-04-28 00:00:00\n",
      "troyes vs caen:\n",
      "HOME if odds above: 2.0\n",
      "\n",
      "2018-04-28 00:00:00\n",
      "bordeaux vs dijon:\n",
      "HOME if odds above: 2.0\n",
      "\n",
      "2018-04-28 00:00:00\n",
      "roma vs chievo:\n",
      "HOME if odds above: 2.0\n",
      "\n",
      "2018-04-28 00:00:00\n",
      "setubal vs feirense:\n",
      "HOME if odds above: 2.0\n",
      "\n",
      "2018-04-28 00:00:00\n",
      "benfica vs tondela:\n",
      "HOME if odds above: 2.0\n",
      "\n",
      "2018-04-28 00:00:00\n",
      "portimonense vs portimonense:\n",
      "HOME if odds above: 2.0\n",
      "\n",
      "2018-04-28 00:00:00\n",
      "liverpool vs stoke:\n",
      "HOME if odds above: 2.0\n",
      "\n",
      "2018-04-28 00:00:00\n",
      "sheffield weds vs everton:\n",
      "HOME if odds above: 2.0\n",
      "\n",
      "2018-04-28 00:00:00\n",
      "burnley vs brighton:\n",
      "HOME if odds above: 2.0\n",
      "\n",
      "2018-04-28 00:00:00\n",
      "swansea vs chelsea:\n",
      "AWAY if odds above: 1.5\n",
      "\n",
      "2018-04-28 00:00:00\n",
      "espanol vs las palmas:\n",
      "HOME if odds above: 2.0\n",
      "\n",
      "2018-04-28 00:00:00\n",
      "real madrid vs leganes:\n",
      "HOME if odds above: 2.0\n",
      "\n",
      "2018-04-28 00:00:00\n",
      "villarreal vs celta:\n",
      "HOME if odds above: 2.0\n",
      "\n",
      "Matches recommended:  36\n"
     ]
    }
   ],
   "source": [
    "threshold = 10\n",
    "home_bet = 10.5\n",
    "away_bet = -3\n",
    "recs = 0\n",
    "\n",
    "for i in range(len(pred)):\n",
    "    if pred[i] > home_bet:\n",
    "        print(\"{}\\n{} vs {}:\".format(training_data['Date'].iloc[i],training_data['HomeTeam'].iloc[i],training_data['AwayTeam'].iloc[i]))\n",
    "        print(\"HOME if odds above: {}\\n\".format(2.0))\n",
    "        recs+=1\n",
    "    elif pred[i] < away_bet:\n",
    "        print(\"{}\\n{} vs {}:\".format(training_data['Date'].iloc[i],training_data['HomeTeam'].iloc[i],training_data['AwayTeam'].iloc[i]))\n",
    "        print(\"AWAY if odds above: {}\\n\".format(1.5))\n",
    "        recs+=1\n",
    "        \n",
    "print(\"Matches recommended: \", recs)"
   ]
  },
  {
   "cell_type": "markdown",
   "metadata": {},
   "source": [
    "# Remember:\n",
    "When using a confidence threshold of around 10, the model yields a return of around 3% in testing. Much higher or lower, and the return is practically zero. This could be due to an unwillingness from the bookmakers to realistic odds for dominant sides. Possibly because people overestimate the probability of an underdog win, and so find lower odds unrealistic and unappealing.<br><br>\n",
    "An optimal strategy with regards to risk remains to be discovered, but so far, low-risk strategies (batches of 30 or more matches) seem to be the best course. Constant bets also seem to be doing well, although this may not be statistically significant.\n",
    "\n",
    "### UPDATE:\n",
    "Taking the product of odds and score (negative in the away case), and thresholding at 21 for home games and 7 for away games yields more profit.<br>\n",
    "\n",
    "\n",
    "### UPDATE II:\n",
    "Examining contour plots, it appears that an even better strategy consists of using a home win certainty threshold of 10.5 and an away win certainty threshold of -3, as well as using home and away odd thresholds of 2 and 1.5 respectively (this relationship should be examined closer). This yields 10% in testing, but I may be pushing how far I can tailor the parameters to the test data. Additionally, batch sizes between 10 and 30 are preferable."
   ]
  },
  {
   "cell_type": "code",
   "execution_count": null,
   "metadata": {},
   "outputs": [],
   "source": []
  }
 ],
 "metadata": {
  "kernelspec": {
   "display_name": "Python 3",
   "language": "python",
   "name": "python3"
  },
  "language_info": {
   "codemirror_mode": {
    "name": "ipython",
    "version": 3
   },
   "file_extension": ".py",
   "mimetype": "text/x-python",
   "name": "python",
   "nbconvert_exporter": "python",
   "pygments_lexer": "ipython3",
   "version": "3.6.3"
  }
 },
 "nbformat": 4,
 "nbformat_minor": 2
}
